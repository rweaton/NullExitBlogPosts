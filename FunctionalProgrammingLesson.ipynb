{
 "cells": [
  {
   "cell_type": "markdown",
   "metadata": {},
   "source": [
    "# Functional Programming in Python"
   ]
  },
  {
   "cell_type": "markdown",
   "metadata": {},
   "source": [
    "## Functional programming defined\n",
    "Functional programming is a style of programming, alongside procedural and object-oriented approaches, whereby computations are performed primarily through the evaluation of mathematical functions.  As a consequence, functional programming routines usually avoid unintended side-effects that frequently arise in other paradigms. Functional programming relies heavily on the use of immutable data structures to facilitate parallel processing.\n",
    "\n",
    "Due to its compactness and incorporation of immutable data structures, functional programming eliminates many bugs that can often crop up in procedural- or object-oriented-based routines. Consequently, functional programming routines are typically more maintainable over time compared to other paradigms.  Often, multiple functional primitives can be chained within a single line of code to perform complex operations.  Though such single-line expressions can be quite challenging for new eyes to interpret.  \n",
    "\n",
    "Recall that immutable structures in Python cannot be changed after they are defined. Also, iterable immutables like tuples do not permit arbitrary assignment of new values to their contents.  In contrast, mutable structures like lists *can* be modified by assignment of new element values, or by removing elements or by appending new elements.  Such transformation operations could prove hazardous if the same structure is called upon by multiple parallel processing threads if any of those threads transform the mutable structure at runtime.\n",
    "\n",
    "Below we introduce an example dataset for a guiding example of the use of the main functional programming primatives in Python.\n",
    "\n",
    "In the cell below, instead of using a list of dicts to describe a collection of scientists by various attributes, we can use the `namedtuple()` class of the `collections` library.  Instances of `collections.namedtuple()` are immutable."
   ]
  },
  {
   "cell_type": "code",
   "execution_count": 9,
   "metadata": {},
   "outputs": [],
   "source": [
    "import collections\n",
    "from pprint import pprint\n",
    "\n",
    "Scientist = collections.namedtuple('Scientist', [\n",
    "    'name',\n",
    "    'field',\n",
    "    'born',\n",
    "    'nobel'\n",
    "])\n",
    "\n",
    "Album = collections.namedtuple('Album', [\n",
    "    'name',\n",
    "    'artist',\n",
    "    'label',\n",
    "    'date',\n",
    "    'grammy_nom'\n",
    "])"
   ]
  },
  {
   "cell_type": "markdown",
   "metadata": {},
   "source": [
    "Instances of `Scientist` can be stored in a (mutable) list or an (immutable) tuple; both of which are data structures whose elements can be accessed via indexing.  \n",
    "\n",
    "More often than not, immutable data structures are the best choice for functional programming routines. So called \"operations on\" or \"transformations of\" an immutable object do not actually alter the object itself. Instead, relevant information is copied and then assembled into a new object to be returned. Using the record of copies made, one can track the sequence of operations performed to generate the output structure that span back to the original immutable object. It is worth repeating that immutable objects do not change when operated on, but rather, relevant data is copied then assembled into a novel data structure to be returned as output of the operating function. \n",
    "\n",
    "With `Scientist` defined as a namedtuple, we bundle particular instances inside a tuple to have an immutable collection of immutable records that we can use for functional programming examples to follow."
   ]
  },
  {
   "cell_type": "markdown",
   "metadata": {},
   "source": [
    "scientists = (\n",
    "    Scientist(name='Ada Lovelace', field='math', born=1815, nobel=False),\n",
    "    Scientist(name='Emmy Noether', field='math', born=1882, nobel=False),\n",
    "    Scientist(name='Marie Curie', field='physics', born=1867, nobel=True),\n",
    "    Scientist(name='Tu Youyou', field='chemistry', born=1930, nobel=True),\n",
    "    Scientist(name='Ada Younath', field='chemistry', born=1939, nobel=True),\n",
    "    Scientist(name='Vera Rubin', field='astronomy', born=1928, nobel=False),\n",
    "    Scientist(name='Sally Ride', field='physics', born=1951, nobel=False)\n",
    "             )\n",
    "albums = (\n",
    "    Album(name='OK Computer', artist='Radiohead', \n",
    "          label='Capitol', date=1998, grammy_nom=True),\n",
    "    Album(name='Around the Fur', artist='Deftones',\n",
    "          label='Maverick', date=1997, grammy_nom=False),\n",
    "    Album(name='Mellon Collie and the Infinite Sadness', artist='Smashing Pumpkins, The', \n",
    "          label='Virgin', date=1995, grammy_nom=True),\n",
    "    Album(name='Odelay', artist='Beck [Hansen]', \n",
    "          label='DGC', date=1997, grammy_nom=True),\n",
    "    Album(name='Downward Spiral, The', artist='Nine Inch Nails', \n",
    "          label='Interscope', date=1994, grammy_nom=False),\n",
    "    Album(name='Nevermind', artist='Nirvana', \n",
    "          label='DGC', date=1991, grammy_nom=False),\n",
    "    Album(name='Superunknown', artist='Soundgarden', \n",
    "          label='A&M', date=1994, grammy_nom=False),\n",
    "    Album(name='Jagged Little Pill', artist='Alanis Morissette',\n",
    "          label='Maverick', date=1995, grammy_nom=True),\n",
    "    Album(name='Blind Melon', artist='Blind Melon',\n",
    "          label='Capitol', date=1992, grammy_nom=False),\n",
    "    Album(name='Antichrist Superstar', artist='Marylin Manson', \n",
    "          label='Interscope', date=1996, grammy_nom=False)\n",
    "         )\n",
    "pprint(albums)"
   ]
  },
  {
   "cell_type": "markdown",
   "metadata": {},
   "source": [
    "## Functional programming primitives\n",
    "### Filter and lambda\n",
    "The first functional programming primitive we will discuss is the Python built-in `filter()`. We also need to introduce the lambda function as it is used in the code below.\n",
    "* `filter()`: selects only elements of an iterable that meet a specifed criterion.\n",
    "* `lambda`: like `def`, is used to define a function in code that follows it.  But unlike named, and separately-defined `def` functions, lambda functions are anonymous and reside inside surrounding expressions.\n",
    "\n",
    "Below we apply `filter` to our example, incorporating use of an anonymous lambda function as the selecting criterion."
   ]
  },
  {
   "cell_type": "code",
   "execution_count": 22,
   "metadata": {},
   "outputs": [
    {
     "name": "stdout",
     "output_type": "stream",
     "text": [
      "(Album(name='OK Computer', artist='Radiohead', label='Capitol', date=1998, grammy_nom=True),\n",
      " Album(name='Mellon Collie and the Infinite Sadness', artist='Smashing Pumpkins, The', label='Virgin', date=1995, grammy_nom=True),\n",
      " Album(name='Odelay', artist='Beck [Hansen]', label='DGC', date=1997, grammy_nom=True),\n",
      " Album(name='Jagged Little Pill', artist='Alanis Morissette', label='Maverick', date=1995, grammy_nom=True))\n"
     ]
    }
   ],
   "source": [
    "fs = filter(lambda x: x.nobel is True, scientists) # produces a filter object to be inserted in an \n",
    "                                                   # iterating operation\n",
    "nobel_scientists = tuple(fs) # tuple is an interating operator that produces a tuple object\n",
    "\n",
    "fs = filter(lambda a: a.grammy_nom is True, albums)\n",
    "nomin_albums = tuple(fs)\n",
    "pprint(nomin_albums)"
   ]
  },
  {
   "cell_type": "markdown",
   "metadata": {},
   "source": [
    "Equivalently, you can use an in-place generator expression inside the `tuple()` operator to generate the same result as the filter-based example above. Generator expressions are discussed below.  According to Python core developers, this latter approach is more consistent with the Pythonic ethos \"explicit is better than implicit\"."
   ]
  },
  {
   "cell_type": "code",
   "execution_count": 23,
   "metadata": {},
   "outputs": [
    {
     "name": "stdout",
     "output_type": "stream",
     "text": [
      "(Scientist(name='Marie Curie', field='physics', born=1867, nobel=True),\n",
      " Scientist(name='Tu Youyou', field='chemistry', born=1930, nobel=True),\n",
      " Scientist(name='Ada Younath', field='chemistry', born=1939, nobel=True))\n",
      "(Album(name='OK Computer', artist='Radiohead', label='Capitol', date=1998, grammy_nom=True),\n",
      " Album(name='Mellon Collie and the Infinite Sadness', artist='Smashing Pumpkins, The', label='Virgin', date=1995, grammy_nom=True),\n",
      " Album(name='Odelay', artist='Beck [Hansen]', label='DGC', date=1997, grammy_nom=True),\n",
      " Album(name='Jagged Little Pill', artist='Alanis Morissette', label='Maverick', date=1995, grammy_nom=True))\n"
     ]
    }
   ],
   "source": [
    "nobel_scientists = tuple(x for x in scientists if x.nobel == True)\n",
    "pprint(nobel_scientists)\n",
    "\n",
    "nomin_albums = tuple(a for a in albums if a.grammy_nom == True)\n",
    "pprint(nomin_albums)"
   ]
  },
  {
   "cell_type": "markdown",
   "metadata": {},
   "source": [
    "### Map\n",
    "To be specific, `map(func, *iterables)` inserts elements in `*iterables` into function `func` in an element-by-element manner.  That is, output of `func` for each element in `*iterables` is placed at the same location in a new list of the same size.  To put it another way, `map(...)` returns a list of outputs that are *index-matched* to inputs in `*iterables` on which the function `func` was applied.\n",
    "\n",
    "Continuing with our example below, we use `map()` to take data from the `scientists` tuple and form a new list (or iterable) containing the name and age of each of the scientists therein.\n"
   ]
  },
  {
   "cell_type": "code",
   "execution_count": 24,
   "metadata": {},
   "outputs": [
    {
     "name": "stdout",
     "output_type": "stream",
     "text": [
      "(AgeData(name='Ada Lovelace', age=205),\n",
      " AgeData(name='Emmy Noether', age=138),\n",
      " AgeData(name='Marie Curie', age=153),\n",
      " AgeData(name='Tu Youyou', age=90),\n",
      " AgeData(name='Ada Younath', age=81),\n",
      " AgeData(name='Vera Rubin', age=92),\n",
      " AgeData(name='Sally Ride', age=69))\n",
      "(AgeData(name='OK Computer', age=22),\n",
      " AgeData(name='Around the Fur', age=23),\n",
      " AgeData(name='Mellon Collie and the Infinite Sadness', age=25),\n",
      " AgeData(name='Odelay', age=23),\n",
      " AgeData(name='Downward Spiral, The', age=26),\n",
      " AgeData(name='Nevermind', age=29),\n",
      " AgeData(name='Superunknown', age=26),\n",
      " AgeData(name='Jagged Little Pill', age=25),\n",
      " AgeData(name='Blind Melon', age=28),\n",
      " AgeData(name='Antichrist Superstar', age=24))\n"
     ]
    }
   ],
   "source": [
    "AgeData = collections.namedtuple('AgeData', ['name', 'age'])\n",
    "names_and_ages = tuple(map(lambda x: AgeData(name=x.name, age=(2020 - x.born)), scientists))\n",
    "pprint(names_and_ages)\n",
    "\n",
    "AgeData = collections.namedtuple('AgeData', ['name', 'age'])\n",
    "names_and_ages = tuple(map(lambda x: AgeData(name=x.name, age=(2020 - x.date)), albums))\n",
    "pprint(names_and_ages)"
   ]
  },
  {
   "cell_type": "markdown",
   "metadata": {},
   "source": [
    "### Generator Expressions\n",
    "\n",
    "In simple terms, a generator expression is the input argument of a list comprehension--it is the expression inside the list declaration brackets.  Below, you can see output generated identically to that in the map example above, using a similar, and more compact, generator expression placed inside the `tuple()` operator."
   ]
  },
  {
   "cell_type": "code",
   "execution_count": 25,
   "metadata": {},
   "outputs": [
    {
     "name": "stdout",
     "output_type": "stream",
     "text": [
      "(AgeData(name='Ada Lovelace', age=205),\n",
      " AgeData(name='Emmy Noether', age=138),\n",
      " AgeData(name='Marie Curie', age=153),\n",
      " AgeData(name='Tu Youyou', age=90),\n",
      " AgeData(name='Ada Younath', age=81),\n",
      " AgeData(name='Vera Rubin', age=92),\n",
      " AgeData(name='Sally Ride', age=69))\n",
      "(AgeData(name='OK Computer', age=22),\n",
      " AgeData(name='Around the Fur', age=23),\n",
      " AgeData(name='Mellon Collie and the Infinite Sadness', age=25),\n",
      " AgeData(name='Odelay', age=23),\n",
      " AgeData(name='Downward Spiral, The', age=26),\n",
      " AgeData(name='Nevermind', age=29),\n",
      " AgeData(name='Superunknown', age=26),\n",
      " AgeData(name='Jagged Little Pill', age=25),\n",
      " AgeData(name='Blind Melon', age=28),\n",
      " AgeData(name='Antichrist Superstar', age=24))\n"
     ]
    }
   ],
   "source": [
    "names_and_ages = tuple(AgeData(name=x.name, age=(2020 - x.born)) for x in scientists)\n",
    "pprint(names_and_ages)\n",
    "\n",
    "names_and_ages = tuple(map(lambda x: AgeData(name=x.name, age=(2020 - x.date)), albums))\n",
    "pprint(names_and_ages)"
   ]
  },
  {
   "cell_type": "markdown",
   "metadata": {},
   "source": [
    "In their most basic form, generator expressions are defined `expression for i in iterable` where `expression` is some operation in which element `i` may or may not be involved, `iterable` is a collection in which which element `i` belongs. The generator expression iterates through `iterable` using the element from each iteration in the expression."
   ]
  },
  {
   "cell_type": "markdown",
   "metadata": {},
   "source": [
    "### Reduce\n",
    "\n",
    "The function `reduce()` is a functional programming primative from the `functools` module (in Python3). In broad terms, reduce *cumulatively* combines elements of a list into a single-valued output.\n",
    "\n",
    "To be more precise:\n",
    "1. The `reduce(func, seq[init,)` initially takes an optional value `init` (or default, `None`) as well as the first element of sequence `seq`, ($s_1$), to use as input arguments of the function, `func`. The function returns a single output value ($out_1$) to be used on the subsequent iteration.  That is, $out_1 = f(init, s_1)$.\n",
    "2. On the next interation, output from the previous call, $out_1$, is inserted back into the function as the first argument, along with the next element of `seq`, $s_2$. An updated output value is returned, $out_2$.  Mathematically, the second interation can be expressed, $out_2 = f(out_1, s_2)$. Output on each iteration arises through incorporation of output of the previous iteration with the next element in the sequence.\n",
    "3. The `reduce` primative repeats step 2 above for all elements in `seq` until the last element is inserted, at which point, a final output value is returned. An expression to characterize the sequence is $out_{i} = f(out_{i-1}, s_{i})$ for all elements in `seq` from $1$ to $n$.  Note that $out_{0} = init$.\n",
    "\n",
    "Below we use `reduce()` with an accumulating `lambda` function to calculate the total age of the scientists in the `names_and_ages` tuple."
   ]
  },
  {
   "cell_type": "code",
   "execution_count": 27,
   "metadata": {},
   "outputs": [
    {
     "data": {
      "text/plain": [
       "AgeData(name='SuperAlbum', age=251)"
      ]
     },
     "execution_count": 27,
     "metadata": {},
     "output_type": "execute_result"
    }
   ],
   "source": [
    "from functools import reduce\n",
    "reduce(lambda acc, val: AgeData(name=acc.name, age=(acc.age + val.age)), \n",
    "       names_and_ages, AgeData(name='SuperScientist', age=0))\n",
    "\n",
    "reduce(lambda acc, val: AgeData(name=acc.name, age=(acc.age + val.age)), \n",
    "       names_and_ages, AgeData(name='SuperAlbum', age=0))"
   ]
  },
  {
   "cell_type": "markdown",
   "metadata": {},
   "source": [
    "##  Example incorporating multiple primatives\n",
    "To demonstrate the power and versatility of functional programming primitives described above, we will showing how to group together scientists by common field with only two lines of code (well, technically three if we want alphabetic sorting of field names).\n",
    "\n",
    "First, we assemble a list of *unique* field values using `reduce()` and a `lambda` function."
   ]
  },
  {
   "cell_type": "code",
   "execution_count": 28,
   "metadata": {},
   "outputs": [
    {
     "data": {
      "text/plain": [
       "['A&M', 'Capitol', 'DGC', 'Interscope', 'Maverick', 'Virgin']"
      ]
     },
     "execution_count": 28,
     "metadata": {},
     "output_type": "execute_result"
    }
   ],
   "source": [
    "sciFields = reduce(lambda acc, val: acc + [val] if (val not in acc) else acc, \n",
    "                   [s.field for s in scientists], [])\n",
    "sciFields.sort()\n",
    "sciFields\n",
    "\n",
    "albLabels = reduce(lambda acc, val: acc + [val] if (val not in acc) else acc, \n",
    "                   [a.label for a in albums], [])\n",
    "albLabels.sort()\n",
    "albLabels"
   ]
  },
  {
   "cell_type": "markdown",
   "metadata": {},
   "source": [
    "Then the names of scientists can be grouped together into a dict with common field categories as keys. The grouping procedure uses a filtered generative expression inside a dictionary declaration."
   ]
  },
  {
   "cell_type": "code",
   "execution_count": 32,
   "metadata": {},
   "outputs": [
    {
     "data": {
      "text/plain": [
       "{'A&M': ['Superunknown'],\n",
       " 'Capitol': ['OK Computer', 'Blind Melon'],\n",
       " 'DGC': ['Odelay', 'Nevermind'],\n",
       " 'Interscope': ['Downward Spiral, The', 'Antichrist Superstar'],\n",
       " 'Maverick': ['Around the Fur', 'Jagged Little Pill'],\n",
       " 'Virgin': ['Mellon Collie and the Infinite Sadness']}"
      ]
     },
     "execution_count": 32,
     "metadata": {},
     "output_type": "execute_result"
    }
   ],
   "source": [
    "scientistsByField = {f:[s.name for s in scientists if s.field == f] for f in sciFields}\n",
    "scientistsByField\n",
    "\n",
    "albumsByLabel = {l:[a.name for a in albums if a.label == l] for l in albLabels}\n",
    "albumsByLabel"
   ]
  },
  {
   "cell_type": "markdown",
   "metadata": {},
   "source": [
    "## Compare Serial and Parallel processing latencies\n",
    "\n",
    "### Build a test bed to measure code durations"
   ]
  },
  {
   "cell_type": "code",
   "execution_count": 58,
   "metadata": {},
   "outputs": [
    {
     "name": "stdout",
     "output_type": "stream",
     "text": [
      "Using thread 7102 to process instance OK Computer.\n",
      "Using thread 7102 to finish processing OK Computer.\n",
      "Using thread 7102 to process instance Around the Fur.\n",
      "Using thread 7102 to finish processing Around the Fur.\n",
      "Using thread 7102 to process instance Mellon Collie and the Infinite Sadness.\n",
      "Using thread 7102 to finish processing Mellon Collie and the Infinite Sadness.\n",
      "Using thread 7102 to process instance Odelay.\n",
      "Using thread 7102 to finish processing Odelay.\n",
      "Using thread 7102 to process instance Downward Spiral, The.\n",
      "Using thread 7102 to finish processing Downward Spiral, The.\n",
      "Using thread 7102 to process instance Nevermind.\n",
      "Using thread 7102 to finish processing Nevermind.\n",
      "Using thread 7102 to process instance Superunknown.\n",
      "Using thread 7102 to finish processing Superunknown.\n",
      "Using thread 7102 to process instance Jagged Little Pill.\n",
      "Using thread 7102 to finish processing Jagged Little Pill.\n",
      "Using thread 7102 to process instance Blind Melon.\n",
      "Using thread 7102 to finish processing Blind Melon.\n",
      "Using thread 7102 to process instance Antichrist Superstar.\n",
      "Using thread 7102 to finish processing Antichrist Superstar.\n",
      "\n",
      "Single thread processing took 0.173 seconds.\n",
      "\n",
      "({'album': 'OK Computer', 'grammy nomination': True},\n",
      " {'album': 'Around the Fur', 'grammy nomination': False},\n",
      " {'album': 'Mellon Collie and the Infinite Sadness', 'grammy nomination': True},\n",
      " {'album': 'Odelay', 'grammy nomination': True},\n",
      " {'album': 'Downward Spiral, The', 'grammy nomination': False},\n",
      " {'album': 'Nevermind', 'grammy nomination': False},\n",
      " {'album': 'Superunknown', 'grammy nomination': False},\n",
      " {'album': 'Jagged Little Pill', 'grammy nomination': True},\n",
      " {'album': 'Blind Melon', 'grammy nomination': False},\n",
      " {'album': 'Antichrist Superstar', 'grammy nomination': False})\n"
     ]
    }
   ],
   "source": [
    "import os\n",
    "import time\n",
    "import multiprocessing\n",
    "import numpy as np\n",
    "\n",
    "def mockSlowProcess(rec):\n",
    "    print(f'Using thread {os.getpid()} to process instance {rec.name}.')\n",
    "    #time.sleep(0.25)\n",
    "    np.linalg.inv(np.random.rand(100,100))\n",
    "    out = {'album': rec.name, 'grammy nomination': rec.grammy_nom}\n",
    "    print(f'Using thread {os.getpid()} to finish processing {rec.name}.')\n",
    "    return out\n",
    "\n",
    "startTime = time.time()\n",
    "procPool = multiprocessing.Pool(processes=1)\n",
    "output = tuple(procPool.map(mockSlowProcess, albums))\n",
    "    \n",
    "print(f'\\nSingle thread processing took {(time.time() - startTime):.3f} seconds.\\n')\n",
    "pprint(output)"
   ]
  },
  {
   "cell_type": "code",
   "execution_count": 59,
   "metadata": {},
   "outputs": [
    {
     "name": "stdout",
     "output_type": "stream",
     "text": [
      "Using thread 7149 to process instance Mellon Collie and the Infinite Sadness.\n",
      "Using thread 7147 to process instance OK Computer.\n",
      "Using thread 7150 to process instance Odelay.\n",
      "Using thread 7148 to process instance Around the Fur.\n",
      "Using thread 7149 to finish processing Mellon Collie and the Infinite Sadness.\n",
      "Using thread 7149 to process instance Downward Spiral, The.\n",
      "Using thread 7150 to finish processing Odelay.\n",
      "Using thread 7150 to process instance Nevermind.\n",
      "Using thread 7147 to finish processing OK Computer.\n",
      "Using thread 7147 to process instance Superunknown.\n",
      "Using thread 7148 to finish processing Around the Fur.\n",
      "Using thread 7147 to finish processing Superunknown.\n",
      "Using thread 7147 to process instance Jagged Little Pill.\n",
      "Using thread 7148 to process instance Blind Melon.\n",
      "Using thread 7150 to finish processing Nevermind.\n",
      "Using thread 7149 to finish processing Downward Spiral, The.\n",
      "Using thread 7147 to finish processing Jagged Little Pill.\n",
      "Using thread 7149 to process instance Antichrist Superstar.\n",
      "Using thread 7148 to finish processing Blind Melon.\n",
      "Using thread 7149 to finish processing Antichrist Superstar.\n",
      "\n",
      "Four thread parallel processing took 0.149 seconds.\n",
      "\n",
      "({'album': 'OK Computer', 'grammy nomination': True},\n",
      " {'album': 'Around the Fur', 'grammy nomination': False},\n",
      " {'album': 'Mellon Collie and the Infinite Sadness', 'grammy nomination': True},\n",
      " {'album': 'Odelay', 'grammy nomination': True},\n",
      " {'album': 'Downward Spiral, The', 'grammy nomination': False},\n",
      " {'album': 'Nevermind', 'grammy nomination': False},\n",
      " {'album': 'Superunknown', 'grammy nomination': False},\n",
      " {'album': 'Jagged Little Pill', 'grammy nomination': True},\n",
      " {'album': 'Blind Melon', 'grammy nomination': False},\n",
      " {'album': 'Antichrist Superstar', 'grammy nomination': False})\n"
     ]
    }
   ],
   "source": [
    "startTime = time.time()\n",
    "processPool = multiprocessing.Pool(processes=4)\n",
    "output = tuple(processPool.map(mockSlowProcess, albums))\n",
    "    \n",
    "print(f'\\nFour thread parallel processing took {(time.time() - startTime):.3f} seconds.\\n')\n",
    "pprint(output)"
   ]
  },
  {
   "cell_type": "code",
   "execution_count": 52,
   "metadata": {},
   "outputs": [
    {
     "data": {
      "text/plain": [
       "array([[-1.15860165,  0.66058292,  0.15785215,  0.69142527],\n",
       "       [ 0.50168045, -1.39612798, -0.2202731 ,  1.19573872],\n",
       "       [-1.80290285, -0.45701689,  1.42558276,  0.77124332],\n",
       "       [ 2.88600299,  2.19995488, -0.48238309, -2.62626518]])"
      ]
     },
     "execution_count": 52,
     "metadata": {},
     "output_type": "execute_result"
    }
   ],
   "source": [
    "np.linalg.inv(np.random.rand(4,4))"
   ]
  },
  {
   "cell_type": "code",
   "execution_count": null,
   "metadata": {},
   "outputs": [],
   "source": []
  }
 ],
 "metadata": {
  "kernelspec": {
   "display_name": "Python 3",
   "language": "python",
   "name": "python3"
  },
  "language_info": {
   "codemirror_mode": {
    "name": "ipython",
    "version": 3
   },
   "file_extension": ".py",
   "mimetype": "text/x-python",
   "name": "python",
   "nbconvert_exporter": "python",
   "pygments_lexer": "ipython3",
   "version": "3.7.3"
  }
 },
 "nbformat": 4,
 "nbformat_minor": 4
}
