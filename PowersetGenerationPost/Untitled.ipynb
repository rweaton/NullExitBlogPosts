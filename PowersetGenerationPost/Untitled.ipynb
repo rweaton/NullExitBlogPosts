{
 "cells": [
  {
   "cell_type": "code",
   "execution_count": 190,
   "metadata": {},
   "outputs": [],
   "source": [
    "class ModSet():\n",
    "    \n",
    "    # Instance constructor\n",
    "    def __init__(self, setElement):\n",
    "        self.val = setElement  # set arg saved in .val attribute\n",
    "    \n",
    "    # String eval representation of self instance \n",
    "    def __repr__(self):\n",
    "        return self.val.__repr__() # Return string eval represent.\n",
    "                                   # of string object in .val\n",
    "    \n",
    "    # Method to make a copy of self instance\n",
    "    def __copy__(self):\n",
    "        return ModSet(self.val.copy())\n",
    "    \n",
    "    # Modify .val to contain the set of itself, of itself, ...\n",
    "    # nesting .val \"depth\" number of levels.\n",
    "    def pushDown(self, depth):\n",
    "        while depth > 0:\n",
    "            self.val = set([ModSet(self.val)])\n",
    "            depth -= 1     \n",
    "    \n",
    "    # Remove one nesting level from set in self.val.\n",
    "    # If un-nested, ignore.\n",
    "    def pullUpOneLevel(self):\n",
    "        listSet = list(self.val)\n",
    "        if len(listSet) == 1:\n",
    "            self.val = listSet[0].val\n",
    "        else:\n",
    "            pass\n",
    "    \n",
    "    # Remove \"height\" nesting levels from set in\n",
    "    # self.val by repeatedly calling above method\n",
    "    def pullUp(self, height):\n",
    "        while height > 0:\n",
    "            self.pullUpOneLevel()\n",
    "            height -= 1\n",
    "    \n",
    "    # Within a single set, multiple ModSets with \n",
    "    # equivalent .val attributes can exist.  \n",
    "    # This can occur because each instance of ModSet\n",
    "    # allocated its own location in memory. For sets\n",
    "    # to have unique members in terms of ModSet.val\n",
    "    # values, we define the following filtering method.\n",
    "    def removeDuplicates(self):\n",
    "        uniqueSet = set()  # initialize as empty the unique set to be built\n",
    "        for s in self.val:  # s is a member of the ModSet().val set\n",
    "            inUniqueSet = False  # initialize match detection flag as false\n",
    "            sTest = s  # default conditional testing value for s\n",
    "            for us in uniqueSet: # us is a member of the uniqueSet set\n",
    "                usTest = us  # default conditional testing value for us\n",
    "                if isinstance(us, ModSet): # if member us is a ModSet\n",
    "                    usTest = us.val        # change testing value to its attribute\n",
    "                if isinstance(s, ModSet):  # if member s is a ModSet\n",
    "                    sTest = s.val          # change testing value to its attribute\n",
    "                if usTest == sTest:  # compare us and s testing values on this run\n",
    "                    inUniqueSet = True  # if match, set existence flag to true\n",
    "            if not inUniqueSet:    # only add member s to uniqueSet if\n",
    "                uniqueSet.add(s)   # match is NOT detected\n",
    "        self.val = uniqueSet    # set .val to the uniqueSet from above\n",
    "    \n",
    "    # union join multiple items, enforce that ModSet members be unique\n",
    "    def union(self, *modSets):\n",
    "        for modSet in modSets:\n",
    "            self.val = self.val.union(modSet.val)  # this is union method from set class\n",
    "            self.removeDuplicates()  # removes duplicate-valued instances of ModSet members\n",
    "    \n",
    "    # set intersect multiple items\n",
    "    def intersection(self, *modSets):\n",
    "        for modSet in modSets:\n",
    "            self.val = self.val.intersection(modSet.val)\n",
    "    \n",
    "    # set difference multiple items. note: arg order matters here! \n",
    "    def difference(self, *modSets):\n",
    "        for modSet in modSets:\n",
    "            self.val = self.val.difference(modSet.val)\n",
    "    \n",
    "    # version of above method that returns a new instance,\n",
    "    # only takes two arguments.\n",
    "    def diffFunc(modSet1, modSet2):\n",
    "        return ModSet(set.difference(modSet1.val, modSet2.val))\n",
    "    \n",
    "    # Generate powerset via direct, binary mask approach\n",
    "    def powerSet_bin(self):\n",
    "        \n",
    "        ## Initialize local variables ##\n",
    "        S = list(self.val)         # convert to list for indexing\n",
    "        setSize = len(self.val)    # count number of members in source set\n",
    "        psetSize = pow(2, setSize) # calculate the number of elements in the power set\n",
    "        lastIndex = setSize - 1    # index value of last member\n",
    "        setIndices = range(0, setSize)  # make indices list for source set\n",
    "        psetIndices = range(0, psetSize) # make indices list for power set to be built\n",
    "        bMasks = [[False for s in setIndices] for p in psetIndices] # Initialize binary mask       \n",
    "        pSet = ModSet(set())  # initialize power set as empty ModSet() instance\n",
    "        pSet.pushDown(1)  # and nest it down one level for later joining\n",
    "        \n",
    "        ## Populate powerset with each subset, one at a time ##\n",
    "        for i in psetIndices: # loop through each member of power set\n",
    "            \n",
    "            ## Generate binary mask for subset i of power set ##\n",
    "            val = i  # assign current pSet index as current \"value\" of mask \n",
    "            for j in setIndices: # loop through each bit-digit of mask\n",
    "                \n",
    "                if (val >= pow(2, lastIndex - j)):  # if mask value >= value of current bit,\n",
    "                    bMasks[i][lastIndex - j] = True # then set corresp. mask bit to \"true\"\n",
    "                    val -= pow(2, lastIndex - j)    # subtract value of current bit from\n",
    "                                                    # mask value to determine next bit-digit\n",
    "            ## Form subset i of power set ##\n",
    "            # Use generator expression for compactness\n",
    "            dummySet = ModSet(set([S[k] for k in setIndices if bMasks[i][k] == True]))\n",
    "            dummySet.pushDown(1)  # nest ModSet instance down one level for union join\n",
    "            pSet.union(dummySet)  # include new subset in power set\n",
    "            \n",
    "        return pSet, bMasks  # return complete power set and binary masks as output\n",
    "    \n",
    "    # Generate powerset recursively.\n",
    "    def powerSet_rec(self):\n",
    "        \n",
    "        pSet = self.__copy__()      # Preserve self instance; its copy, pSet\n",
    "                                    # will be altered\n",
    "        pSet.pushDown(1)            # Nest pSet for later joining.\n",
    "              \n",
    "        if len(self.val) > 0:       # Recursion termination condition\n",
    "            for elSet in self.val:  # Iterate through members of set self.val\n",
    "                # Generate subset that remains after removing current\n",
    "                # element, elSet, from set self.val\n",
    "                dummySet = self.diffFunc(ModSet(set([elSet]))) \n",
    "                # To current powerset, append the powerset of the\n",
    "                # subset from previous step\n",
    "                pSet.union(dummySet.powerSet_rec())  # Self-call powerset method,\n",
    "                                                     # union join powerset of \n",
    "                                                     # dummySet with pSet\n",
    "            return pSet             # Return powerset at current \n",
    "                                    # level of recursion\n",
    "        else:\n",
    "            dummySet = ModSet(set())  # Generate instance of ModSet of empty set\n",
    "            dummySet.pushDown(1)      # Nest empty set down one level so it can\n",
    "            return dummySet           # be union joined in the recursion level\n",
    "                                      # above that called this run-through.\n",
    "            \n",
    "    def powerSet_rec2(self):  # self.val is a set with reg. elements\n",
    "        \n",
    "        if len(self.val) > 0:  # if self.val is not empty do the following\n",
    "\n",
    "            el = list(self.val)[-1] # obtain last element of self.val set\n",
    "            el = ModSet(set([el])) # insert element within a ModSet\n",
    "            T = self.diffFunc(el) # get ModSet complement of self by set-subtracting el\n",
    "            pSet = T.powerSet_rec2() # self-call to obtain power set of ModSet complement\n",
    "            extSet = pSet.__copy__() # copy the power set of complement, need it kept unaltered\n",
    "            for s in extSet.val: # iterate through each subset in the power set of complement\n",
    "                s.union(el) # union-join the stripped element to each member subset\n",
    "                extSet.union(pSet) # union-join modified extSet to power set of complement\n",
    "            return extSet # return result which is power set of self\n",
    "        \n",
    "        else:  # if self.val is empty\n",
    "            dummySet = ModSet(set())  # construct ModSet of empty\n",
    "            dummySet.pushDown(2) # nest down 2 levels \n",
    "            return dummySet # return power set that includes only singleton subset"
   ]
  },
  {
   "cell_type": "code",
   "execution_count": 154,
   "metadata": {},
   "outputs": [
    {
     "data": {
      "text/plain": [
       "1"
      ]
     },
     "execution_count": 154,
     "metadata": {},
     "output_type": "execute_result"
    }
   ],
   "source": [
    "clumsyPrez = ModSet(set(['hotAss']))\n",
    "len(clumsyPrez.val)"
   ]
  },
  {
   "cell_type": "code",
   "execution_count": 155,
   "metadata": {},
   "outputs": [
    {
     "data": {
      "text/plain": [
       "'hotAss'"
      ]
     },
     "execution_count": 155,
     "metadata": {},
     "output_type": "execute_result"
    }
   ],
   "source": [
    "el = list(clumsyPrez.val)[-1]\n",
    "el"
   ]
  },
  {
   "cell_type": "code",
   "execution_count": 156,
   "metadata": {},
   "outputs": [
    {
     "data": {
      "text/plain": [
       "__main__.ModSet"
      ]
     },
     "execution_count": 156,
     "metadata": {},
     "output_type": "execute_result"
    }
   ],
   "source": [
    "el = ModSet(set([el]))\n",
    "clumsyPrez.difference(el)\n",
    "junkerz = clumsyPrez.__copy__()\n",
    "type(junkerz)"
   ]
  },
  {
   "cell_type": "code",
   "execution_count": 163,
   "metadata": {},
   "outputs": [],
   "source": [
    "clumsyPrez = ModSet(set([ 6.1, 2021, \"fight like hell\", \"we love you\",('impeachment','#2')]))"
   ]
  },
  {
   "cell_type": "code",
   "execution_count": 164,
   "metadata": {},
   "outputs": [
    {
     "data": {
      "text/plain": [
       "{set(),\n",
       " {'fight like hell', ('impeachment', '#2'), 2021, 6.1},\n",
       " {'fight like hell', ('impeachment', '#2'), 6.1},\n",
       " {'fight like hell', ('impeachment', '#2')},\n",
       " {'fight like hell', 2021, ('impeachment', '#2')},\n",
       " {'fight like hell', 2021, 6.1},\n",
       " {'fight like hell', 2021},\n",
       " {'fight like hell', 6.1},\n",
       " {'fight like hell'},\n",
       " {'we love you', 'fight like hell', ('impeachment', '#2'), 6.1},\n",
       " {'we love you', 'fight like hell', ('impeachment', '#2')},\n",
       " {'we love you', 'fight like hell', 2021, ('impeachment', '#2')},\n",
       " {'we love you', 'fight like hell', 2021, 6.1, ('impeachment', '#2')},\n",
       " {'we love you', 'fight like hell', 2021, 6.1},\n",
       " {'we love you', 'fight like hell', 2021},\n",
       " {'we love you', 'fight like hell', 6.1},\n",
       " {'we love you', 'fight like hell'},\n",
       " {'we love you', ('impeachment', '#2'), 2021, 6.1},\n",
       " {'we love you', ('impeachment', '#2'), 6.1},\n",
       " {'we love you', ('impeachment', '#2')},\n",
       " {'we love you', 2021, ('impeachment', '#2')},\n",
       " {'we love you', 2021, 6.1},\n",
       " {'we love you', 2021},\n",
       " {'we love you', 6.1},\n",
       " {'we love you'},\n",
       " {('impeachment', '#2'), 6.1},\n",
       " {('impeachment', '#2')},\n",
       " {2021, ('impeachment', '#2'), 6.1},\n",
       " {2021, ('impeachment', '#2')},\n",
       " {2021, 6.1},\n",
       " {2021},\n",
       " {6.1}}"
      ]
     },
     "execution_count": 164,
     "metadata": {},
     "output_type": "execute_result"
    }
   ],
   "source": [
    "pSet = clumsyPrez.powerSet_rec()\n",
    "pSet.val"
   ]
  },
  {
   "cell_type": "code",
   "execution_count": 126,
   "metadata": {},
   "outputs": [
    {
     "data": {
      "text/plain": [
       "{set()}"
      ]
     },
     "execution_count": 126,
     "metadata": {},
     "output_type": "execute_result"
    }
   ],
   "source": [
    "el = ModSet(set([el]))\n",
    "T = clumsyPrez.diffFunc(el)\n",
    "pSet = T.powerSet_rec()\n",
    "extSet = pSet.__copy__()\n",
    "extSet.val"
   ]
  },
  {
   "cell_type": "code",
   "execution_count": 123,
   "metadata": {},
   "outputs": [
    {
     "data": {
      "text/plain": [
       "{{{'hotAss'}}}"
      ]
     },
     "execution_count": 123,
     "metadata": {},
     "output_type": "execute_result"
    }
   ],
   "source": [
    "for s in extSet.val:\n",
    "    s.union(el)\n",
    "extSet.val"
   ]
  },
  {
   "cell_type": "code",
   "execution_count": 166,
   "metadata": {},
   "outputs": [
    {
     "data": {
      "text/plain": [
       "{{set()}}"
      ]
     },
     "execution_count": 166,
     "metadata": {},
     "output_type": "execute_result"
    }
   ],
   "source": [
    "dummySet = ModSet(set())\n",
    "dummySet.pushDown(2)\n",
    "pSet = dummySet\n",
    "pSet"
   ]
  },
  {
   "cell_type": "code",
   "execution_count": 216,
   "metadata": {},
   "outputs": [
    {
     "name": "stdout",
     "output_type": "stream",
     "text": [
      "{'hotAss'}\n",
      "set()\n",
      "[140101095789960, 140101095659112]\n",
      "{set()}\n",
      "{set()}\n",
      "{{'hotAss'}}\n"
     ]
    },
    {
     "data": {
      "text/plain": [
       "{set(), {'hotAss'}}"
      ]
     },
     "execution_count": 216,
     "metadata": {},
     "output_type": "execute_result"
    }
   ],
   "source": [
    "el = 'hotAss'\n",
    "el = ModSet(set([el]))\n",
    "#el.pushDown(1)\n",
    "print(el)\n",
    "pSet = ModSet(set())\n",
    "extSet = pSet.__copy__()\n",
    "print(extSet)\n",
    "print([id(pSet.val), id(extSet.val)])\n",
    "pSet.pushDown(1)\n",
    "extSet.pushDown(1)\n",
    "print(pSet)\n",
    "print(extSet)\n",
    "for s in extSet.val: # iterate through each subset in the power set of complement\n",
    "    s.union(el)      # union-join the stripped element to each member subset\n",
    "print(extSet)    \n",
    "extSet.union(pSet)\n",
    "pSet = extSet\n",
    "pSet.val"
   ]
  },
  {
   "cell_type": "code",
   "execution_count": 217,
   "metadata": {},
   "outputs": [
    {
     "name": "stdout",
     "output_type": "stream",
     "text": [
      "{{'hotAss'}, set()}\n",
      "{{'hotAss'}, set()}\n",
      "{{'hotAss'}, set()}\n",
      "{{'shapely', 'hotAss'}, {'shapely'}}\n",
      "{{'shapely', 'hotAss'}, {'shapely'}}\n"
     ]
    },
    {
     "data": {
      "text/plain": [
       "{{'shapely', 'hotAss'}, {'shapely'}}"
      ]
     },
     "execution_count": 217,
     "metadata": {},
     "output_type": "execute_result"
    }
   ],
   "source": [
    "el = 'shapely'\n",
    "el = ModSet(set([el]))\n",
    "#el.pushDown(1)\n",
    "print(pSet)\n",
    "#pSet.pullUp(1)\n",
    "#print(pSet)\n",
    "extSet = pSet.__copy__()\n",
    "#pSet.pushDown(1)\n",
    "#extSet.pushDown(1)\n",
    "print(pSet)\n",
    "print(extSet)\n",
    "for s in extSet.val: # iterate through each subset in the power set of complement\n",
    "    s.union(el)      # union-join the stripped element to each member subset\n",
    "print(pSet)\n",
    "print(extSet)\n",
    "extSet.union(pSet)\n",
    "pset = extSet\n",
    "pset"
   ]
  },
  {
   "cell_type": "code",
   "execution_count": null,
   "metadata": {},
   "outputs": [],
   "source": []
  }
 ],
 "metadata": {
  "kernelspec": {
   "display_name": "Python 3",
   "language": "python",
   "name": "python3"
  },
  "language_info": {
   "codemirror_mode": {
    "name": "ipython",
    "version": 3
   },
   "file_extension": ".py",
   "mimetype": "text/x-python",
   "name": "python",
   "nbconvert_exporter": "python",
   "pygments_lexer": "ipython3",
   "version": "3.7.3"
  }
 },
 "nbformat": 4,
 "nbformat_minor": 4
}
