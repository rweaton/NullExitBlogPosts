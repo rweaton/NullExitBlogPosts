{
 "cells": [
  {
   "cell_type": "markdown",
   "metadata": {},
   "source": [
    "# Power sets in Python: an object-oriented approach (part 3)\n",
    "\n",
    "\n",
    "## Contents\n",
    "<style>\n",
    "  ol\n",
    "  {\n",
    "    list-style-type: none\n",
    "  }\n",
    "</style>\n",
    "<ol>\n",
    "    <li><div style=\"text-align: left\"><a href=\"#Overview-main\"><cn1>Overview</cn1></a></div></li>\n",
    "    <li><div style=\"text-align: left\"><a href=\"#Preliminaries-main\"><cn1>Preliminaries</cn1></a></li>\n",
    "    <li><div style=\"text-align: left\"><a href=\"#Binary-Mask-power-set-generator-main\"><cn1>Binary Mask power set generator</cn1></a></div>\n",
    "    <ol>\n",
    "        <li><div style=\"text-align: left\"><a href=\"#Overview-binary\"><cn2>Overview</cn2></a></div></li>\n",
    "        <li><div style=\"text-align: left\"><a href=\"#Flow-of-control-binary\"><cn2>Flow of control</cn2></a></div>\n",
    "        <ol>\n",
    "            <li><div style=\"text-align: left\"><a href=\"#Aside:-initializing-the-mask-binary\"><cn3>Aside: initializing the mask<cn3></a></div></li>\n",
    "        </ol>\n",
    "        <li><div style=\"text-align: left\"><a href=\"#Testing-the-binary-mask-routine-binary\"><cn2>Testing the binary mask routine</cn2></a></div></li>\n",
    "    </ol>\n",
    "    </li>\n",
    "<li><div style=\"text-align: left\"><a href=\"#Recursive-power-set-generator-main\"><cn1>Recursive power set generator</cn1></a></div>\n",
    "    <ol>\n",
    "    <li><div style=\"text-align: left\"><a href=\"#Overview-recursive\"><cn2>Overview</cn2></a></div></li>\n",
    "    <li><div style=\"text-align: left\"><a href=\"#Flow-of-control-recursive\"><cn2>Flow of control</cn2></a></div></li>\n",
    "    <li><div style=\"text-align: left\"><a href=\"#Testing-the-recursive-routine-recursive\"><cn2>Testing the recursive routine</cn2></a></div></li>\n",
    "    </ol>\n",
    "    </li>\n",
    "    <li><div style=\"text-align: left\"><a href=\"#Quick-and-dirty-efficiency-comparison-main\"><cn1>Quick-and-dirty efficiency comparison</cn1></div></li>\n",
    "    <li><div style=\"text-align: left\"><a href=\"#Summary-main\"><cn1>Summary</cn1></div></li>\n",
    "    <li><div style=\"text-align: left\"><a href=\"#Sources-(part-3)-main\"><cn1>Sources (part 3)</cn1></div></li>\n",
    "    <li><div style=\"text-align: left\"><a href=\"#The-complete-ModSet()-class-main\"><cn1>The complete ModSet() class</cn1></a></div></li>\n",
    "</ol>"
   ]
  },
  {
   "cell_type": "markdown",
   "metadata": {},
   "source": [
    "<div id=\"Overview-main\"><h2>Overview</h2></div>\n",
    "\n",
    "Last time, in <a href=\"https://nullexit.org/blog/index.php/2021/01/27/power-sets-in-python-an-object-oriented-approach-part-2/\">part two</a>, we built and tested our set container class, `ModSet()`, with a variety of methods that will prove useful when we construct the power set.  Methods included copying, nesting/unnesting, filtering to keep only unique members as well as set-union and set-subtraction operations. You will see that most of these will be used, either implicitly or explicitly, in both Binary Mask and Recursive methods of generating power sets."
   ]
  },
  {
   "cell_type": "markdown",
   "metadata": {},
   "source": [
    "<div id=\"Preliminaries-main\"><h2>Preliminaries</h2></div>\n",
    "\n",
    "When we are ready to build our power set, we'll measure the time it takes each of the two routines to complete, so we can compare their performance. As a preliminary, let's import the `time` module so it stands at ready."
   ]
  },
  {
   "cell_type": "code",
   "execution_count": 2,
   "metadata": {
    "scrolled": true
   },
   "outputs": [],
   "source": [
    "import time"
   ]
  },
  {
   "cell_type": "markdown",
   "metadata": {},
   "source": [
    "Of course we will need an example source set to operate on. Let's define it now and be done with it."
   ]
  },
  {
   "cell_type": "code",
   "execution_count": 3,
   "metadata": {
    "scrolled": true
   },
   "outputs": [],
   "source": [
    "clumsyPrez = ModSet(set([ 6.1, 2021, \"fight like hell\", \"we love you\",('impeachment','#2')]))"
   ]
  },
  {
   "cell_type": "markdown",
   "metadata": {},
   "source": [
    "<div id=\"Binary-Mask-power-set-generator-main\"><h2>Binary Mask power set generator</h2></div>\n",
    "\n",
    "In this iterative-based approach, we will populate the power set by applying binary masks to extract out member subsets, one-by-one, from the source set in `ModSet().val`. If you recall, a verbal description of power set generation using a binary mask we discussed way back in part one; you can find it <a href=\"https://nullexit.org/blog/index.php/2021/01/27/power-sets-in-python-an-object-oriented-approach-part-1/#The-Binary-Mask-approach\">here</a>. Below, we first provide an overview of our binary mask power set generator routine, followed by the routine itself, with heavy commenting, concluded with a detailed walk-through after that."
   ]
  },
  {
   "cell_type": "markdown",
   "metadata": {},
   "source": [
    "<div id=\"Overview-binary\"><h3>Overview</h3></div>\n",
    "\n",
    "The method, named `.powerSet_bin()`, contains 19 lines and calls `.pushDown()` and `.union()` sibling methods.  Though we could use NumPy here to make mask generation and member extraction more compact, we did not want to confound the comparison (to our recursive approach to follow) by incorporating functionality of an external module.  Already, the code has been somewhat compressed by use of generator expressions."
   ]
  },
  {
   "cell_type": "markdown",
   "metadata": {},
   "source": [
    "<div id=\"Flow-of-control-binary\"><h3>Flow of control</h3></div>\n",
    "\n",
    "The routine below can be divided into two main blocks: variable initialization, and the run-time loop that builds each binary mask for extracting the corresponding subset on each iteration. The loop populates the power set member-by-member and terminates when all $2^n$ members have been added. Because indexing is crucial in this approach, you'll notice heavy use of `range()` and `list()` data-types.  As you'll see later, our recursive approach requires no such crutch."
   ]
  },
  {
   "cell_type": "code",
   "execution_count": null,
   "metadata": {
    "scrolled": true
   },
   "outputs": [],
   "source": [
    "class ModSet():\n",
    "    .\n",
    "    .\n",
    "    .\n",
    "    # Generate powerset via direct, binary mask approach\n",
    "    def powerSet_bin(self):\n",
    "        \n",
    "        ## Initialize local variables ##\n",
    "        S = list(self.val)         # convert to list for indexing\n",
    "        setSize = len(self.val)    # count number of members in source set\n",
    "        psetSize = pow(2, setSize) # calculate the number of elements in the power set\n",
    "        lastIndex = setSize - 1    # index value of last member\n",
    "        setIndices = range(0, setSize)  # make indices list for source set\n",
    "        psetIndices = range(0, psetSize) # make indices list for power set to be built\n",
    "        bMasks = [[False for s in setIndices] for p in psetIndices] # Initialize binary mask       \n",
    "        pSet = ModSet(set())  # initialize power set as empty ModSet() instance\n",
    "        pSet.pushDown(1)  # and nest it down one level for later joining\n",
    "        \n",
    "        ## Populate powerset with each subset, one at a time ##\n",
    "        for i in psetIndices: # loop through each member of power set\n",
    "            \n",
    "            ## Generate binary mask for subset i of power set ##\n",
    "            val = i  # assign current pSet index as current \"value\" of mask \n",
    "            for j in setIndices: # loop through each bit-digit of mask\n",
    "                \n",
    "                if (val >= pow(2, lastIndex - j)):  # if mask value >= value of current bit,\n",
    "                    bMasks[i][lastIndex - j] = True # then set corresp. mask bit to \"true\"\n",
    "                    val -= pow(2, lastIndex - j)    # subtract value of current bit from\n",
    "                                                    # mask value to determine next bit-digit\n",
    "            ## Form subset i of power set ##\n",
    "            # Use generator expression for compactness\n",
    "            dummySet = ModSet(set([S[k] for k in setIndices if bMasks[i][k] == True]))\n",
    "            dummySet.pushDown(1)  # nest ModSet instance down one level for union join\n",
    "            pSet.union(dummySet)  # include new subset in power set\n",
    "            \n",
    "        return pSet, bMasks  # return complete power set and binary masks as output"
   ]
  },
  {
   "cell_type": "markdown",
   "metadata": {},
   "source": [
    "<div id=\"Aside:-initializing-the-mask-binary\"><h4>Aside: initializing the mask</h4></div>\n",
    "\n",
    "To have each and every element alterable in our list of binary masks, `bMasks`, we need to individually assign each and every element within the nested list. If you attempt to initialize `bMasks` like this, `bMasks = [[False]*len(setIndices)]*len(psetIndices)]`, (as *we* did on our first attempt!), you will find that you cannot change individual elements of `bMasks` later on. That is"
   ]
  },
  {
   "cell_type": "code",
   "execution_count": 4,
   "metadata": {
    "scrolled": true
   },
   "outputs": [
    {
     "data": {
      "text/plain": [
       "[[False, True, False],\n",
       " [False, True, False],\n",
       " [False, True, False],\n",
       " [False, True, False],\n",
       " [False, True, False]]"
      ]
     },
     "execution_count": 4,
     "metadata": {},
     "output_type": "execute_result"
    }
   ],
   "source": [
    "bMasks =[[False]*3]*5\n",
    "bMasks[3][1] = True\n",
    "bMasks"
   ]
  },
  {
   "cell_type": "markdown",
   "metadata": {},
   "source": [
    "changes to `True` the second column of *all* rows, rather than just the fourth, since all point to the same instance of `True`.  However, if you initialize `bMasks` using a list completion, the nested list assembles with a hash to a unique instance for each and every element therein"
   ]
  },
  {
   "cell_type": "code",
   "execution_count": 5,
   "metadata": {
    "scrolled": true
   },
   "outputs": [
    {
     "data": {
      "text/plain": [
       "[[False, False, False],\n",
       " [False, False, False],\n",
       " [False, False, False],\n",
       " [False, True, False],\n",
       " [False, False, False]]"
      ]
     },
     "execution_count": 5,
     "metadata": {},
     "output_type": "execute_result"
    }
   ],
   "source": [
    "bMasks = [[False for j in range(0,3)] for i in range(0, 5)]\n",
    "bMasks[3][1] = True\n",
    "bMasks"
   ]
  },
  {
   "cell_type": "markdown",
   "metadata": {},
   "source": [
    "so that we can make the individual bit flips necessary for our routine. Our apologies for the digression; we felt the need to address this \"rookie\" Python mistake for those who may be unaccustomed to using `list` objects in this, possibly unusual, manner."
   ]
  },
  {
   "cell_type": "markdown",
   "metadata": {},
   "source": [
    "<div id=\"Testing-the-binary-mask-routine-binary\"><h3>Testing the binary mask routine</h3></div>\n",
    "\n",
    "With the binary mask routine complete, we're ready to build our power set.  Below we've sandwiched the call within two `time.time()` reads, so we can measure its runtime duration. Let's examine `bMasks` output first."
   ]
  },
  {
   "cell_type": "code",
   "execution_count": 6,
   "metadata": {
    "scrolled": true
   },
   "outputs": [
    {
     "data": {
      "text/plain": [
       "[[False, False, False, False, False],\n",
       " [True, False, False, False, False],\n",
       " [False, True, False, False, False],\n",
       " [True, True, False, False, False],\n",
       " [False, False, True, False, False],\n",
       " [True, False, True, False, False],\n",
       " [False, True, True, False, False],\n",
       " [True, True, True, False, False],\n",
       " [False, False, False, True, False],\n",
       " [True, False, False, True, False],\n",
       " [False, True, False, True, False],\n",
       " [True, True, False, True, False],\n",
       " [False, False, True, True, False],\n",
       " [True, False, True, True, False],\n",
       " [False, True, True, True, False],\n",
       " [True, True, True, True, False],\n",
       " [False, False, False, False, True],\n",
       " [True, False, False, False, True],\n",
       " [False, True, False, False, True],\n",
       " [True, True, False, False, True],\n",
       " [False, False, True, False, True],\n",
       " [True, False, True, False, True],\n",
       " [False, True, True, False, True],\n",
       " [True, True, True, False, True],\n",
       " [False, False, False, True, True],\n",
       " [True, False, False, True, True],\n",
       " [False, True, False, True, True],\n",
       " [True, True, False, True, True],\n",
       " [False, False, True, True, True],\n",
       " [True, False, True, True, True],\n",
       " [False, True, True, True, True],\n",
       " [True, True, True, True, True]]"
      ]
     },
     "execution_count": 6,
     "metadata": {},
     "output_type": "execute_result"
    }
   ],
   "source": [
    "tStart = time.time() # clock start timestamp\n",
    "pSet_bin, bMasks = clumsyPrez.powerSet_bin() # call our binary mask power set generator\n",
    "duration = time.time() - tStart # calc run duration by subtracting tStart from current time.\n",
    "bMasks # show list of binary masks"
   ]
  },
  {
   "cell_type": "markdown",
   "metadata": {},
   "source": [
    "Above, you can see that masks progress from all `False` to all `True` in a logical pattern. This ordering would be a great feature if we cared about how members are ordered in our power set. But sets, strictly defined, are not distinguished by the ordering of their members <a href=\"#ref1\">(Van Dalen, Doets, De Swart; 2014)</a>.  That is, set $\\{a, b, c\\}$ is equivalent to set $\\{c, a, b\\}$ and $\\{b, a, c\\}$, and so on.\n",
    "\n",
    "So, after taking a look at our power set in `pSet_bin`, we see that the nice ordering was all for naught."
   ]
  },
  {
   "cell_type": "code",
   "execution_count": 7,
   "metadata": {
    "scrolled": true
   },
   "outputs": [
    {
     "name": "stdout",
     "output_type": "stream",
     "text": [
      "The Binary Mask approach took 0.008102 seconds to complete.\n",
      "The power set contains 32 subset elements\n"
     ]
    },
    {
     "data": {
      "text/plain": [
       "{set(),\n",
       " {'fight like hell', 'we love you', ('impeachment', '#2'), 2021},\n",
       " {'fight like hell', 'we love you', ('impeachment', '#2'), 6.1},\n",
       " {'fight like hell', 'we love you', ('impeachment', '#2')},\n",
       " {'fight like hell', 'we love you', 2021, 6.1},\n",
       " {'fight like hell', 'we love you', 2021},\n",
       " {'fight like hell', 'we love you', 6.1},\n",
       " {'fight like hell', 'we love you'},\n",
       " {'fight like hell', ('impeachment', '#2'), 2021, 6.1},\n",
       " {'fight like hell', ('impeachment', '#2'), 2021},\n",
       " {'fight like hell', ('impeachment', '#2'), 6.1},\n",
       " {'fight like hell', ('impeachment', '#2')},\n",
       " {'fight like hell', 2021, 6.1, 'we love you', ('impeachment', '#2')},\n",
       " {'fight like hell', 2021, 6.1},\n",
       " {'fight like hell', 2021},\n",
       " {'fight like hell', 6.1},\n",
       " {'fight like hell'},\n",
       " {'we love you', ('impeachment', '#2'), 2021, 6.1},\n",
       " {'we love you', ('impeachment', '#2'), 2021},\n",
       " {'we love you', ('impeachment', '#2'), 6.1},\n",
       " {'we love you', ('impeachment', '#2')},\n",
       " {'we love you', 2021, 6.1},\n",
       " {'we love you', 2021},\n",
       " {'we love you', 6.1},\n",
       " {'we love you'},\n",
       " {('impeachment', '#2'), 2021, 6.1},\n",
       " {('impeachment', '#2'), 2021},\n",
       " {('impeachment', '#2'), 6.1},\n",
       " {('impeachment', '#2')},\n",
       " {2021, 6.1},\n",
       " {2021},\n",
       " {6.1}}"
      ]
     },
     "execution_count": 7,
     "metadata": {},
     "output_type": "execute_result"
    }
   ],
   "source": [
    "# Report duration of binary mask power set generation\n",
    "print('The Binary Mask approach took %0.6f seconds to complete.'%(duration))\n",
    "print('The power set contains %i subset elements'%(len(pSet_bin.val)))\n",
    "pSet_bin.val # show power set output; remember, this is a set!"
   ]
  },
  {
   "cell_type": "markdown",
   "metadata": {},
   "source": [
    "From the power set output string above, it looks like we have many sub-`set` instances as members of one big super-`set`.  But, if you recall from all the way back in part one, this is *not* the case; our power set `pSet_bin` is actually a `ModSet()` object, whose `.val` attribute is a `set`, each element of which is another `ModSet()` instance that contains one unique sub-`set` of the original source set (as its `.val` attribute). We defined the `ModSet.__repr__()` method to return the code representation of its `.val` attribute; that's the reason why the return string from calling `pSet_bin.val` appears in this set-resembling format. "
   ]
  },
  {
   "cell_type": "markdown",
   "metadata": {},
   "source": [
    "<div id=\"Recursive-power-set-generator-main\"><h2>Recursive power set generator</h2></div>\n",
    "In part one, we went over a recursive algorithm that we used to design our recursive power set generator below. You can find it <a href=\"https://nullexit.org/blog/index.php/2021/01/27/power-sets-in-python-an-object-oriented-approach-part-1/#A-Recursive-approach\">here</a> if you would like a refresher."
   ]
  },
  {
   "cell_type": "markdown",
   "metadata": {},
   "source": [
    "<div id=\"Overview-recursive\"><h3>Overview</h3></div>\n",
    "\n",
    "Our recursion-based method for generating power sets contains just 11 lines of code but requires five sibling methods, as well as itself, to run. Though `.powerSet_rec()` has fewer lines than `.powerSet_bin()`, it relies more heavily upon behavior of sibling methods in the `ModSet()` class, i.e. `.__copy__()`, `.pushDown()`, `.diffFunc()`, `.union()` and `.removeDuplicates()` to perform the respective obligatory processing tasks of duplication, nesting, extraction, joining and filtering. Unlike the Binary Mask approach above, indexing is not needed here, and hence, not employed. Through recursion, we can generate the identical power set using thoughtfully-placed set-subtraction, -union and -filtering operations."
   ]
  },
  {
   "cell_type": "code",
   "execution_count": null,
   "metadata": {
    "scrolled": true
   },
   "outputs": [],
   "source": [
    "class ModSet():\n",
    "    .\n",
    "    .\n",
    "    .\n",
    "    # Generate power set recursively.\n",
    "    def powerSet_rec(self):\n",
    "        \n",
    "        pSet = self.__copy__()      # Preserve self instance; its copy, pSet\n",
    "                                    # will be altered\n",
    "        pSet.pushDown(1)            # Nest pSet for later joining.\n",
    "              \n",
    "        if len(self.val) > 0:       # Recursion termination condition\n",
    "            for elSet in self.val:  # Iterate through members of set self.val\n",
    "                # Generate subset that remains after removing current\n",
    "                # element, elSet, from set self.val\n",
    "                dummySet = self.diffFunc(ModSet(set([elSet]))) \n",
    "                # To current powerset, append the powerset of the\n",
    "                # subset from previous step\n",
    "                pSet.union(dummySet.powerSet_rec())  # Self-call power set method,\n",
    "                                                     # union join power set of \n",
    "                                                     # dummySet with pSet\n",
    "            return pSet             # Return power set at current \n",
    "                                    # level of recursion\n",
    "        else:\n",
    "            dummySet = ModSet(set())  # Generate instance of ModSet of empty set\n",
    "            dummySet.pushDown(1)      # Nest empty set down one level so it can\n",
    "            return dummySet           # be union-joined in the recursion level\n",
    "                                      # above (that called this current run)."
   ]
  },
  {
   "cell_type": "markdown",
   "metadata": {},
   "source": [
    "<div id=\"Flow-of-control-recursive\"><h3>Flow of control</h3></div>\n",
    "\n",
    "First a duplicate of the calling instance is made to serve as the (local) power set within our routine. This instance is promptly pushed down one level so it can be joined by union later, if necessary. Next, the number of elements in the calling instance are counted.  If empty, an empty `ModSet()` instance is returned on exit of the routine. This case path is the exit condition for the recursive flow; eventually all calling instances will dwindle down to empty as members are stripped from them in the alternative, non-empty, case that we'll describe next.  \n",
    "\n",
    "If the calling instance is not empty, `.powerSet_rec()` iterates over the elements therein, each time subtracting out the current element, `elSet`, and calling itself again to build the power set from elements that remain. Output from this recursive call is then joined by union with `pSet`.  Remember that every time `pSet.union()` runs, it calls the filtering method `removeDuplicates()` to retain only unique members in `pSet` as it is assembled.  \n",
    "\n",
    "When the loop completes, and all subsets have been included at the present level, the local instance of `pSet` is returned so that it can be union-joined with the `pSet` instance inside the calling-function one level above. The method continues in this fashion until `pSet` at the top-most level of recursion is fully populated, at which point output is returned in response to the initial method call.\n",
    "\n",
    "\\[Phew..!\\]\n",
    "\n",
    "Let's give it a whirl and gauge its run-time duration."
   ]
  },
  {
   "cell_type": "markdown",
   "metadata": {},
   "source": [
    "<div id=\"Testing-the-recursive-routine-recursive\"><h3>Testing the recursive routine</h3></div>"
   ]
  },
  {
   "cell_type": "code",
   "execution_count": 8,
   "metadata": {
    "scrolled": true
   },
   "outputs": [
    {
     "name": "stdout",
     "output_type": "stream",
     "text": [
      "The Recursive approach took 0.006932 seconds to complete.\n",
      "The power set contains 32 subset elements\n"
     ]
    },
    {
     "data": {
      "text/plain": [
       "{set(),\n",
       " {'fight like hell', 'we love you', ('impeachment', '#2'), 2021},\n",
       " {'fight like hell', 'we love you', ('impeachment', '#2'), 6.1},\n",
       " {'fight like hell', 'we love you', ('impeachment', '#2')},\n",
       " {'fight like hell', 'we love you', 2021, 6.1},\n",
       " {'fight like hell', 'we love you', 2021},\n",
       " {'fight like hell', 'we love you', 6.1},\n",
       " {'fight like hell', 'we love you'},\n",
       " {'fight like hell', ('impeachment', '#2'), 2021, 6.1},\n",
       " {'fight like hell', ('impeachment', '#2'), 2021},\n",
       " {'fight like hell', ('impeachment', '#2'), 6.1},\n",
       " {'fight like hell', ('impeachment', '#2')},\n",
       " {'fight like hell', 2021, 6.1, 'we love you', ('impeachment', '#2')},\n",
       " {'fight like hell', 2021, 6.1},\n",
       " {'fight like hell', 2021},\n",
       " {'fight like hell', 6.1},\n",
       " {'fight like hell'},\n",
       " {'we love you', ('impeachment', '#2'), 2021, 6.1},\n",
       " {'we love you', ('impeachment', '#2'), 2021},\n",
       " {'we love you', ('impeachment', '#2'), 6.1},\n",
       " {'we love you', ('impeachment', '#2')},\n",
       " {'we love you', 2021, 6.1},\n",
       " {'we love you', 2021},\n",
       " {'we love you', 6.1},\n",
       " {'we love you'},\n",
       " {('impeachment', '#2'), 2021, 6.1},\n",
       " {('impeachment', '#2'), 2021},\n",
       " {('impeachment', '#2'), 6.1},\n",
       " {('impeachment', '#2')},\n",
       " {2021, 6.1},\n",
       " {2021},\n",
       " {6.1}}"
      ]
     },
     "execution_count": 8,
     "metadata": {},
     "output_type": "execute_result"
    }
   ],
   "source": [
    "tStart = time.time()\n",
    "pSet_rec = clumsyPrez.powerSet_rec()\n",
    "duration = time.time() - tStart\n",
    "print('The Recursive approach took %0.6f seconds to complete.'%(duration))\n",
    "print('The power set contains %i subset elements'%(len(pSet_rec.val)))\n",
    "pSet_rec.val\n"
   ]
  },
  {
   "cell_type": "markdown",
   "metadata": {},
   "source": [
    "As promised, we see the same power set as we saw from the Binary Mask approach. But unlike that approach, there is no mask output for us to examine this time."
   ]
  },
  {
   "cell_type": "markdown",
   "metadata": {},
   "source": [
    "<div id=\"Quick-and-dirty-efficiency-comparison-main\"><h2>Quick-and-dirty efficiency comparison</h2></div>\n",
    "\n",
    "For a given programming objective, recursive algorithms tend to be less efficient than their iterative equivalents when used in imperative-based languages, like Python, where iteration is preferred <a href=\"#ref2\">(Recursion (computer science), Wikipedia)</a>.  Below we hobbled together a quick script to measure, and statistically compare, processing times of the two methods of power set generation of `clumsyPrez`. We instruct the two power set generators to each run 500 times in a randomly alternating sequence to destroy potential processing-related biases (e.g. sequential, timing) that could otherwise arise by running the two in separate blocks."
   ]
  },
  {
   "cell_type": "code",
   "execution_count": 9,
   "metadata": {
    "scrolled": true
   },
   "outputs": [],
   "source": [
    "import numpy as np\n",
    "import matplotlib.pyplot as plt\n",
    "\n",
    "# routine to repeatedly collect run-time durations\n",
    "# of functions genFunc1 and genFunc2\n",
    "def genDurationsDist(genFunc1, genFunc2, nReps):\n",
    "    durations = np.zeros(2*nReps)  # initialize output array\n",
    "    genFuncs = [genFunc1, genFunc2] # make list of the two functions to run\n",
    "    # initialize an array to contain the run-sequence of the two functions\n",
    "    funcSeq = np.concatenate([np.zeros(nReps), np.ones(nReps)]).astype(int)\n",
    "    np.random.shuffle(funcSeq)  # shuffle the ordering of the sequence\n",
    "    for i in np.arange(0, funcSeq.shape[0]): # iterate over random sequence\n",
    "        tStart = time.time() # start timestamp\n",
    "        genFuncs[funcSeq[i]]() # run one of the two functions based on funcSeq\n",
    "        durations[i] = time.time() - tStart # end timestamp, calc duration\n",
    "    # separate and return the two sets of durations\n",
    "    return durations[funcSeq == 0], durations[funcSeq == 1] \n",
    "\n",
    "durations_bin, durations_rec = genDurationsDist(clumsyPrez.powerSet_bin, \n",
    "                                                clumsyPrez.powerSet_rec, 500)  "
   ]
  },
  {
   "cell_type": "code",
   "execution_count": null,
   "metadata": {
    "scrolled": true
   },
   "outputs": [],
   "source": [
    "# cell for reloading nonparametric_stats module\n",
    "import importlib\n",
    "importlib.reload(nps)"
   ]
  },
  {
   "cell_type": "code",
   "execution_count": 10,
   "metadata": {
    "scrolled": false
   },
   "outputs": [
    {
     "data": {
      "image/png": "[encoded data removed]",
      "text/plain": [
       "<Figure size 504x360 with 1 Axes>"
      ]
     },
     "metadata": {
      "needs_background": "light"
     },
     "output_type": "display_data"
    },
    {
     "data": {
      "image/png": "[encoded data removed]",
      "text/plain": [
       "<Figure size 504x360 with 2 Axes>"
      ]
     },
     "metadata": {
      "needs_background": "light"
     },
     "output_type": "display_data"
    }
   ],
   "source": [
    "import nonparametric_stats as nps\n",
    "plt.rcParams['figure.figsize'] = [7, 5]\n",
    "durs = (10**3)*np.array([durations_bin, durations_rec])\n",
    "\n",
    "# Obtain color cycle that matplotlib uses\n",
    "prop_cycle = plt.rcParams['axes.prop_cycle']\n",
    "colors = prop_cycle.by_key()['color']\n",
    "\n",
    "# plot histograms of duration distributions\n",
    "labels=['Bin. Mask', 'Recursive']\n",
    "ax = nps.histPlotter(50, *durs, labels=labels, colors=colors)\n",
    "ax.set_title('Runtime durations of 2 power set generators')\n",
    "ax.set_xlabel('duration (msec.)')\n",
    "ax.set_ylabel('counts')\n",
    "ax.legend()\n",
    "\n",
    "# Examine Q-Q plots to compare distributions to\n",
    "# their corresponding theoretical normal dists\n",
    "fig, axs = plt.subplots(nrows=1, ncols=2)\n",
    "fig.tight_layout()\n",
    "\n",
    "for i in range(0,2):\n",
    "    nps.qqPlotter_normal(durs[i], 30, axes=axs[i], color=colors[i])\n",
    "    axs[i].set_title(labels[i] + ' gen. Q-Q')\n",
    "    axs[i].set_xlabel('theoretical normal')\n",
    "    if i == 0:\n",
    "        axs[i].set_ylabel('data')"
   ]
  },
  {
   "cell_type": "markdown",
   "metadata": {},
   "source": [
    "The two distributions certainly do not *appear* to be normally distributed. Below, we import and run the Mann-Whitney non-parametric comparison test to assess if the difference between the two reaches statistical significance."
   ]
  },
  {
   "cell_type": "code",
   "execution_count": 16,
   "metadata": {
    "scrolled": true
   },
   "outputs": [
    {
     "name": "stdout",
     "output_type": "stream",
     "text": [
      "Median Bin. Mask duration: 1.97 msec., Median Recursive duration: 4.46 msec.\n",
      "Mann-Whitney U statistic: 2260.50, p-value: 2.02e-159\n"
     ]
    }
   ],
   "source": [
    "from scipy.stats import mannwhitneyu as mwu\n",
    "med_bin = (10**3)*np.median(durations_bin) # compute median duration of Bin. Mask ps durations\n",
    "med_rec = (10**3)*np.median(durations_rec) # compute median duration of Recursive ps durations\n",
    "\n",
    "print('Median Bin. Mask duration: %0.2f msec., Median Recursive duration: %0.2f msec.'\\\n",
    "      %(med_bin, med_rec))\n",
    "# Run non-parametric test to determine if differences between \n",
    "# distributions are statistically significant\n",
    "uStat, pVal = mwu(durations_bin, durations_rec)\n",
    "print('Mann-Whitney U statistic: %0.2f, p-value: %0.2e'%(uStat, pVal))"
   ]
  },
  {
   "cell_type": "markdown",
   "metadata": {
    "variables": {
     "print('%0.2f'%med_bin)": "1.97",
     "print('%0.2f'%med_rec)": "4.46",
     "print('%0.2f'%uStat)": "2260.50"
    }
   },
   "source": [
    "Measuring the time elapsed for each of the two approaches, we find that, on average, our recursive algorithm does indeed take about twice the time to complete on our machine as the binary-mask method ({{print('%0.2f'%med_rec)}} ms versus {{print('%0.2f'%med_bin)}} ms, U = {{print('%0.2f'%uStat)}}, p < 0.01). Of course, ours is certainly not a very controlled comparison; so please take the result with \"a grain of salt\" if you will."
   ]
  },
  {
   "cell_type": "markdown",
   "metadata": {},
   "source": [
    "<div id=\"Summary-main\"><h2>Summary</h2></div>\n",
    "\n",
    "In <a href=\"https://nullexit.org/blog/index.php/2021/01/27/power-sets-in-python-an-object-oriented-approach-part-1/\">part one</a> we discussed power sets and their relation to the binary theorem. In addition, we mapped out a recursive procedure for generating the power set. A brief investigation revealed that Python's `set()` class could not accommodate our need to include subsets within a set as in the case of power sets.  To solve the problem, we introduced a custom container class with a set-valued attribute, whose instances are \"hashable\" and thus, eligible for membership in `set` objects.\n",
    "\n",
    "Starting with the container strategy from part one, in <a href=\"https://nullexit.org/blog/index.php/2021/01/27/power-sets-in-python-an-object-oriented-approach-part-2/\">part two</a> we expanded our custom class, `ModSet()`, to include methods that perform copying, nesting, uniqueness-filtering, set-union and set-difference operations as well as others. We verified that all `ModSet()` methods functioned as desired.  Many of the methods added would prove necessary for both methods of power set generation to follow.\n",
    "\n",
    "In <a href=\"https://nullexit.org/blog/index.php/2021/01/29/power-sets-in-python-an-object-oriented-approach-part-3/\">part three</a>, we realized our goal of generating power sets. First, we detailed program flow of both the Binary Mask and Recursive approaches of power set generation. The mask routine used list indexing and took more lines of code than recursive method, but called fewer class methods.  Our Recursive approach was shorter in terms of lines of code because it incorporated more sibling methods of the `ModSet()` class. Explaining its program flow was \"interesting\" to the least; with effort on the part of the reader, it *might* strengthen understanding of recursive algorithms. Without effort, it has potential to confuse.  Finally, we compared relative run times of the two approaches. It turned out that, as expected, the Binary Mask routine took less time to run than its recursive counterpart."
   ]
  },
  {
   "cell_type": "markdown",
   "metadata": {},
   "source": [
    "<div id=\"Sources-(part-3)-main\"><h2>Sources (part 3)</h2></div>\n",
    "\n",
    "<a name=\"ref1\">1.</a> D. Van Dalen; H. C. Doets; H. De Swart (9 May 2014). <a href=\"https://books.google.com/books?id=PfbiBQAAQBAJ&pg=PA1#v=onepage&q&f=false\">Sets: Naïve, Axiomatic and Applied: A Basic Compendium with Exercises for Use in Set Theory for Non Logicians, Working and Teaching Mathematicians and Students</a>. Elsevier Science. ISBN 978-1-4831-5039-0.\n",
    "\n",
    "<a name=\"ref2\">2.</a> <a href=\"https://en.wikipedia.org/wiki/Recursion_(computer_science)#Recursion_versus_iteration\">Recursion (computer science), Recursion versus Iteration</a>,  Wikipedia."
   ]
  },
  {
   "cell_type": "markdown",
   "metadata": {},
   "source": [
    "<div id=\"The-complete-ModSet()-class-main\"><h2>The complete ModSet() class</h2></div>"
   ]
  },
  {
   "cell_type": "markdown",
   "metadata": {},
   "source": [
    "You can download `ModSet()`'s complete definition from github: <a href=\"https://github.com/rweaton/NullExitBlogPosts/blob/main/PowersetGenerationPost/modset.py\">modset.py</a>"
   ]
  },
  {
   "cell_type": "raw",
   "metadata": {},
   "source": [
    "<a rel=\"license\" href=\"http://creativecommons.org/licenses/by/4.0/\"><img alt=\"Creative Commons License\" style=\"border-width:0\" src=\"https://i.creativecommons.org/l/by/4.0/88x31.png\" /></a><br /><span xmlns:dct=\"http://purl.org/dc/terms/\" property=\"dct:title\">The ModSet() class</span> by <a xmlns:cc=\"http://creativecommons.org/ns#\" href=\"nullexit.org\" property=\"cc:attributionName\" rel=\"cc:attributionURL\">nullexit.org</a> is licensed under a <a rel=\"license\" href=\"http://creativecommons.org/licenses/by/4.0/\">Creative Commons Attribution 4.0 International License</a>."
   ]
  },
  {
   "cell_type": "code",
   "execution_count": 1,
   "metadata": {
    "scrolled": true
   },
   "outputs": [],
   "source": [
    "class ModSet():\n",
    "    \n",
    "    # Instance constructor\n",
    "    def __init__(self, setElement):\n",
    "        self.val = setElement  # set arg saved in .val attribute\n",
    "    \n",
    "    # String eval representation of self instance \n",
    "    def __repr__(self):\n",
    "        return self.val.__repr__() # Return string eval represent.\n",
    "                                   # of string object in .val\n",
    "    \n",
    "    # Method to make a copy of self instance\n",
    "    def __copy__(self):\n",
    "        return ModSet(self.val)\n",
    "    \n",
    "    # Modify .val to contain the set of itself, of itself, ...\n",
    "    # nesting .val \"depth\" number of levels.\n",
    "    def pushDown(self, depth):\n",
    "        while depth > 0:\n",
    "            self.val = set([ModSet(self.val)])\n",
    "            depth -= 1     \n",
    "    \n",
    "    # Remove one nesting level from set in self.val.\n",
    "    # If un-nested, ignore.\n",
    "    def pullUpOneLevel(self):\n",
    "        listSet = list(self.val)\n",
    "        if len(listSet) == 1:\n",
    "            self.val = listSet[0].val\n",
    "        else:\n",
    "            pass\n",
    "    \n",
    "    # Remove \"height\" nesting levels from set in\n",
    "    # self.val by repeatedly calling above method\n",
    "    def pullUp(self, height):\n",
    "        while height > 0:\n",
    "            self.pullUpOneLevel()\n",
    "            height -= 1\n",
    "    \n",
    "    # Within a single set, multiple ModSets with \n",
    "    # equivalent .val attributes can exist.  \n",
    "    # This can occur because each instance of ModSet\n",
    "    # allocated its own location in memory. For sets\n",
    "    # to have unique members in terms of ModSet.val\n",
    "    # values, we define the following filtering method.\n",
    "    def removeDuplicates(self):\n",
    "        uniqueSet = set()  # initialize as empty the unique set to be built\n",
    "        for s in self.val:  # s is a member of the ModSet().val set\n",
    "            inUniqueSet = False  # initialize match detection flag as false\n",
    "            sTest = s  # default conditional testing value for s\n",
    "            for us in uniqueSet: # us is a member of the uniqueSet set\n",
    "                usTest = us  # default conditional testing value for us\n",
    "                if isinstance(us, ModSet): # if member us is a ModSet\n",
    "                    usTest = us.val        # change testing value to its attribute\n",
    "                if isinstance(s, ModSet):  # if member s is a ModSet\n",
    "                    sTest = s.val          # change testing value to its attribute\n",
    "                if usTest == sTest:  # compare us and s testing values on this run\n",
    "                    inUniqueSet = True  # if match, set existence flag to true\n",
    "            if not inUniqueSet:    # only add member s to uniqueSet if\n",
    "                uniqueSet.add(s)   # match is NOT detected\n",
    "        self.val = uniqueSet    # set .val to the uniqueSet from above\n",
    "    \n",
    "    # union join multiple items, enforce that ModSet members be unique\n",
    "    def union(self, *modSets):\n",
    "        for modSet in modSets:\n",
    "            self.val = self.val.union(modSet.val)  # this is union method from set class\n",
    "            self.removeDuplicates()  # removes duplicate-valued instances of ModSet members\n",
    "    \n",
    "    # set intersect multiple items\n",
    "    def intersection(self, *modSets):\n",
    "        for modSet in modSets:\n",
    "            self.val = self.val.intersection(modSet.val)\n",
    "    \n",
    "    # set difference multiple items. note: arg order matters here! \n",
    "    def difference(self, *modSets):\n",
    "        for modSet in modSets:\n",
    "            self.val = self.val.difference(modSet.val)\n",
    "    \n",
    "    # version of above method that returns a new instance,\n",
    "    # only takes two arguments.\n",
    "    def diffFunc(modSet1, modSet2):\n",
    "        return ModSet(set.difference(modSet1.val, modSet2.val))\n",
    "    \n",
    "    # Generate powerset via direct, binary mask approach\n",
    "    def powerSet_bin(self):\n",
    "        \n",
    "        ## Initialize local variables ##\n",
    "        S = list(self.val)         # convert to list for indexing\n",
    "        setSize = len(self.val)    # count number of members in source set\n",
    "        psetSize = pow(2, setSize) # calculate the number of elements in the power set\n",
    "        lastIndex = setSize - 1    # index value of last member\n",
    "        setIndices = range(0, setSize)  # make indices list for source set\n",
    "        psetIndices = range(0, psetSize) # make indices list for power set to be built\n",
    "        bMasks = [[False for s in setIndices] for p in psetIndices] # Initialize binary mask       \n",
    "        pSet = ModSet(set())  # initialize power set as empty ModSet() instance\n",
    "        pSet.pushDown(1)  # and nest it down one level for later joining\n",
    "        \n",
    "        ## Populate powerset with each subset, one at a time ##\n",
    "        for i in psetIndices: # loop through each member of power set\n",
    "            \n",
    "            ## Generate binary mask for subset i of power set ##\n",
    "            val = i  # assign current pSet index as current \"value\" of mask \n",
    "            for j in setIndices: # loop through each bit-digit of mask\n",
    "                \n",
    "                if (val >= pow(2, lastIndex - j)):  # if mask value >= value of current bit,\n",
    "                    bMasks[i][lastIndex - j] = True # then set corresp. mask bit to \"true\"\n",
    "                    val -= pow(2, lastIndex - j)    # subtract value of current bit from\n",
    "                                                    # mask value to determine next bit-digit\n",
    "            ## Form subset i of power set ##\n",
    "            # Use generator expression for compactness\n",
    "            dummySet = ModSet(set([S[k] for k in setIndices if bMasks[i][k] == True]))\n",
    "            dummySet.pushDown(1)  # nest ModSet instance down one level for union join\n",
    "            pSet.union(dummySet)  # include new subset in power set\n",
    "            \n",
    "        return pSet, bMasks  # return complete power set and binary masks as output\n",
    "    \n",
    "    # Generate powerset recursively.\n",
    "    def powerSet_rec(self):\n",
    "        \n",
    "        pSet = self.__copy__()      # Preserve self instance; its copy, pSet\n",
    "                                    # will be altered\n",
    "        pSet.pushDown(1)            # Nest pSet for later joining.\n",
    "              \n",
    "        if len(self.val) > 0:       # Recursion termination condition\n",
    "            for elSet in self.val:  # Iterate through members of set self.val\n",
    "                # Generate subset that remains after removing current\n",
    "                # element, elSet, from set self.val\n",
    "                dummySet = self.diffFunc(ModSet(set([elSet]))) \n",
    "                # To current powerset, append the powerset of the\n",
    "                # subset from previous step\n",
    "                pSet.union(dummySet.powerSet_rec())  # Self-call powerset method,\n",
    "                                                     # union join powerset of \n",
    "                                                     # dummySet with pSet\n",
    "            return pSet             # Return powerset at current \n",
    "                                    # level of recursion\n",
    "        else:\n",
    "            dummySet = ModSet(set())  # Generate instance of ModSet of empty set\n",
    "            dummySet.pushDown(1)      # Nest empty set down one level so it can\n",
    "            return dummySet           # be union joined in the recursion level\n",
    "                                      # above that called this run-through."
   ]
  },
  {
   "cell_type": "code",
   "execution_count": null,
   "metadata": {
    "scrolled": true
   },
   "outputs": [],
   "source": []
  }
 ],
 "metadata": {
  "kernelspec": {
   "display_name": "Python 3",
   "language": "python",
   "name": "python3"
  },
  "language_info": {
   "codemirror_mode": {
    "name": "ipython",
    "version": 3
   },
   "file_extension": ".py",
   "mimetype": "text/x-python",
   "name": "python",
   "nbconvert_exporter": "python",
   "pygments_lexer": "ipython3",
   "version": "3.7.3"
  }
 },
 "nbformat": 4,
 "nbformat_minor": 4
}
