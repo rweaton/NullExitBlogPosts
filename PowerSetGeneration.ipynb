{
 "cells": [
  {
   "cell_type": "markdown",
   "metadata": {},
   "source": [
    "# Power Set Generation: Two Approaches"
   ]
  },
  {
   "cell_type": "markdown",
   "metadata": {},
   "source": [
    "## Base-2 Mask Approach"
   ]
  },
  {
   "cell_type": "code",
   "execution_count": 187,
   "metadata": {},
   "outputs": [],
   "source": [
    "import numpy as np\n",
    "\n",
    "def GenPowerSet(S):\n",
    "    \n",
    "#    S = set(S)  # Convert S to a set (if it isn't already) to ensure\n",
    "                # unique elements within\n",
    "\n",
    "    S = list(S) # Convert back into list to access contents\n",
    "                # via indexing\n",
    "        \n",
    "    # Sort list contents (accepts mixed lists of numbers and strings)\n",
    "    \n",
    "    # Determine set sizes \n",
    "    setSize = len(S) # get number elements in input set\n",
    "    psetSize = pow(2, setSize) # calc number of elements in powerset\n",
    "    \n",
    "    # Value of last index of set S\n",
    "    lastIndex = setSize - 1\n",
    "    \n",
    "    # Initialize base-2 mask\n",
    "    #bMask = [[False]*setSize]*psetSize\n",
    "    bMask = np.zeros([pSetSize, setSize]).astype(bool)\n",
    "    setIndices = np.arange(0, setSize)\n",
    "    \n",
    "    # Initialize output list\n",
    "    pSet = [set()]*psetSize\n",
    "    \n",
    "    # Generate base two mask (brute-force method)\n",
    "    for i in range(0, psetSize):\n",
    "        \n",
    "        diff = i\n",
    "        for j in range(0, setSize):\n",
    "            \n",
    "            if (diff >= pow(2, lastIndex - j)):\n",
    "                \n",
    "                bMask[i, lastIndex - j] = True\n",
    "                diff -= pow(2, lastIndex - j)\n",
    "        \n",
    "        # Write current subset to power set list. Using list\n",
    "        # comprehension here for compactness.\n",
    "        pSet[i] = set([S[k] for k in setIndices[bMask[i,:]]])\n",
    "        \n",
    "    return pSet, bMask\n",
    "            "
   ]
  },
  {
   "cell_type": "code",
   "execution_count": 188,
   "metadata": {},
   "outputs": [
    {
     "data": {
      "text/plain": [
       "[set(),\n",
       " {2},\n",
       " {3},\n",
       " {2, 3},\n",
       " {'a'},\n",
       " {2, 'a'},\n",
       " {3, 'a'},\n",
       " {2, 3, 'a'},\n",
       " {'b'},\n",
       " {2, 'b'},\n",
       " {3, 'b'},\n",
       " {2, 3, 'b'},\n",
       " {'a', 'b'},\n",
       " {2, 'a', 'b'},\n",
       " {3, 'a', 'b'},\n",
       " {2, 3, 'a', 'b'}]"
      ]
     },
     "execution_count": 188,
     "metadata": {},
     "output_type": "execute_result"
    }
   ],
   "source": [
    "# Define input set\n",
    "S1 = [2, 3, 'a', 'b']\n",
    "pSet, bMask = GenPowerSet(S1)\n",
    "pSet"
   ]
  },
  {
   "cell_type": "code",
   "execution_count": 194,
   "metadata": {},
   "outputs": [
    {
     "data": {
      "text/plain": [
       "['a', 2, 3, 'b']"
      ]
     },
     "execution_count": 194,
     "metadata": {},
     "output_type": "execute_result"
    }
   ],
   "source": [
    "[el for el in set(S1)]"
   ]
  },
  {
   "cell_type": "code",
   "execution_count": 192,
   "metadata": {},
   "outputs": [
    {
     "name": "stdout",
     "output_type": "stream",
     "text": [
      "{'a', 2, 3, 'b'}\n"
     ]
    }
   ],
   "source": [
    "print(set(S1))"
   ]
  },
  {
   "cell_type": "code",
   "execution_count": 180,
   "metadata": {},
   "outputs": [
    {
     "data": {
      "text/plain": [
       "{'buttocks', 'nalgas'}"
      ]
     },
     "execution_count": 180,
     "metadata": {},
     "output_type": "execute_result"
    }
   ],
   "source": [
    "j = 12\n",
    "S = ['butt', 'arse', 'buttocks', 'nalgas']\n",
    "S.sort()\n",
    "setIndices = np.arange(0, setSize)\n",
    "set([S[k] for k in setIndices[bMask[j,:]]])"
   ]
  },
  {
   "cell_type": "code",
   "execution_count": 162,
   "metadata": {},
   "outputs": [
    {
     "data": {
      "text/plain": [
       "[[], [], [], [], [], [], [], [], [], [], [], [], [], [], [], []]"
      ]
     },
     "execution_count": 162,
     "metadata": {},
     "output_type": "execute_result"
    }
   ],
   "source": [
    "psetSize = pow(2, setSize)\n",
    "pSet = [[]]*16\n",
    "pSet"
   ]
  },
  {
   "cell_type": "markdown",
   "metadata": {},
   "source": [
    "## Recursive Approach\n",
    "Though the base-2 mask approach may be a more elegant means of generating the power set, a recursive approach is, arguably, the more educational of the two.  For sure, the more challenging."
   ]
  },
  {
   "cell_type": "code",
   "execution_count": 38,
   "metadata": {},
   "outputs": [],
   "source": [
    "# Define a function that takes a set, separates the one element from\n",
    "# the rest and and recursively calls itself to perform the same on the\n",
    "# resultant complement.\n",
    "def GetSubsets(S):\n",
    "    \n",
    "    S = set(S)           # input must be of set type\n",
    "    collection = list()  # initialize output list to contain subset(s)\n",
    "    collection.append(S) # include parent set in output list of sets\n",
    "    \n",
    "    if len(S) > 0:  # recursion termination condition\n",
    "        \n",
    "        for el in S: # iterate over element(s) in set S\n",
    "            \n",
    "            # self call with subset of S as input\n",
    "            collection.append(GetSubsets(S - set([el]))) \n",
    "            \n",
    "    # output is a nested-list containing both sets and sublists of sets\n",
    "    return collection "
   ]
  },
  {
   "cell_type": "markdown",
   "metadata": {},
   "source": [
    "Cells below show a quick demonstration set object immutability.  In contrast, list objects are mutable. "
   ]
  },
  {
   "cell_type": "code",
   "execution_count": 43,
   "metadata": {},
   "outputs": [
    {
     "data": {
      "text/plain": [
       "{5, '5', 'five'}"
      ]
     },
     "execution_count": 43,
     "metadata": {},
     "output_type": "execute_result"
    }
   ],
   "source": [
    "A = {\"5\", 'five', 5}\n",
    "B = A\n",
    "B - {'five'}\n",
    "A"
   ]
  },
  {
   "cell_type": "code",
   "execution_count": 46,
   "metadata": {},
   "outputs": [
    {
     "data": {
      "text/plain": [
       "['5', 5]"
      ]
     },
     "execution_count": 46,
     "metadata": {},
     "output_type": "execute_result"
    }
   ],
   "source": [
    "C = [\"5\", 'five', 5]\n",
    "D = C\n",
    "D.remove('five')\n",
    "C"
   ]
  },
  {
   "cell_type": "markdown",
   "metadata": {},
   "source": [
    "Since `GetSubsets` returns a nested-list of sets and sublists (of sets and sublists), a function is required to bring all sets therein to the same top-most level.  The recursive function below returns such a list. "
   ]
  },
  {
   "cell_type": "code",
   "execution_count": 2,
   "metadata": {},
   "outputs": [],
   "source": [
    "def FlattenNestedList(nestList):\n",
    "    flatList = list()\n",
    "    flatList = flatList + [nestList[0]] \n",
    "    \n",
    "    if len(nestList) >= 2:  # recursion termination condition  \n",
    "\n",
    "        for i in range(1,len(nestList)):\n",
    "            \n",
    "            flatList = flatList + FlattenNestedList(nestList[i])  # self-call\n",
    "        \n",
    "    return flatList"
   ]
  },
  {
   "cell_type": "markdown",
   "metadata": {},
   "source": [
    "The recursive approach of `GetSubsets` results in many duplicate subsets in its output.  Below we define a quick function to keep only unique entries in the power set."
   ]
  },
  {
   "cell_type": "code",
   "execution_count": 3,
   "metadata": {},
   "outputs": [],
   "source": [
    "def FilterOutDuplicates(pList):\n",
    "    uniqueList = list()\n",
    "    for s in pList:\n",
    "        if s in uniqueList:\n",
    "            pass\n",
    "        else:\n",
    "            uniqueList.append(s)\n",
    "    return uniqueList"
   ]
  },
  {
   "cell_type": "markdown",
   "metadata": {},
   "source": [
    "Perhaps the greatest weakness of recursive approach in generating power sets is the lack of order of subset elements in the output list.  The `SortSubsets` function below sorts them into a base-2 ordering."
   ]
  },
  {
   "cell_type": "code",
   "execution_count": null,
   "metadata": {},
   "outputs": [],
   "source": [
    "def SortSubsets(uList, S):\n",
    "    \n",
    "    indices = range(0,len(uList))\n",
    "    sList = [set()]*len(uList)\n",
    "    \n",
    "    binaryList = list()\n",
    "    \n",
    "    for u in uList:\n",
    "        binaryList.append([item in u for item in S])\n",
    "    \n",
    "    sortList = binaryList.copy()\n",
    "    sortList.sort()\n",
    "    \n",
    "    for i in indices:\n",
    "        for j in indices:\n",
    "            \n",
    "            if binaryList[j] == sortList[i]:\n",
    "                sList[i] = uList[j]\n",
    "                \n",
    "    return sList"
   ]
  },
  {
   "cell_type": "markdown",
   "metadata": {},
   "source": [
    "## Generating a Power Set via Recursion  "
   ]
  },
  {
   "cell_type": "code",
   "execution_count": 36,
   "metadata": {},
   "outputs": [],
   "source": [
    "# Define input set\n",
    "S1 = {'a',2,'b',3}"
   ]
  },
  {
   "cell_type": "code",
   "execution_count": 39,
   "metadata": {},
   "outputs": [
    {
     "data": {
      "text/plain": [
       "[{2, 3, 'a', 'b'},\n",
       " [{2, 'a', 'b'},\n",
       "  [{2, 'a'}, [{2}, [set()]], [{'a'}, [set()]]],\n",
       "  [{2, 'b'}, [{2}, [set()]], [{'b'}, [set()]]],\n",
       "  [{'a', 'b'}, [{'a'}, [set()]], [{'b'}, [set()]]]],\n",
       " [{2, 3, 'a'},\n",
       "  [{3, 'a'}, [{3}, [set()]], [{'a'}, [set()]]],\n",
       "  [{2, 3}, [{3}, [set()]], [{2}, [set()]]],\n",
       "  [{2, 'a'}, [{2}, [set()]], [{'a'}, [set()]]]],\n",
       " [{2, 3, 'b'},\n",
       "  [{2, 3}, [{3}, [set()]], [{2}, [set()]]],\n",
       "  [{3, 'b'}, [{3}, [set()]], [{'b'}, [set()]]],\n",
       "  [{2, 'b'}, [{2}, [set()]], [{'b'}, [set()]]]],\n",
       " [{3, 'a', 'b'},\n",
       "  [{3, 'a'}, [{3}, [set()]], [{'a'}, [set()]]],\n",
       "  [{3, 'b'}, [{3}, [set()]], [{'b'}, [set()]]],\n",
       "  [{'a', 'b'}, [{'a'}, [set()]], [{'b'}, [set()]]]]]"
      ]
     },
     "execution_count": 39,
     "metadata": {},
     "output_type": "execute_result"
    }
   ],
   "source": [
    "# Generate nested-list of sets comprising the power set.  \n",
    "PowS1 = GetSubsets(S1)\n",
    "\n",
    "# Show output.\n",
    "PowS1"
   ]
  },
  {
   "cell_type": "code",
   "execution_count": 40,
   "metadata": {},
   "outputs": [
    {
     "data": {
      "text/plain": [
       "[{2, 3, 'a', 'b'},\n",
       " {2, 'a', 'b'},\n",
       " {2, 'a'},\n",
       " {2},\n",
       " set(),\n",
       " {'a'},\n",
       " set(),\n",
       " {2, 'b'},\n",
       " {2},\n",
       " set(),\n",
       " {'b'},\n",
       " set(),\n",
       " {'a', 'b'},\n",
       " {'a'},\n",
       " set(),\n",
       " {'b'},\n",
       " set(),\n",
       " {2, 3, 'a'},\n",
       " {3, 'a'},\n",
       " {3},\n",
       " set(),\n",
       " {'a'},\n",
       " set(),\n",
       " {2, 3},\n",
       " {3},\n",
       " set(),\n",
       " {2},\n",
       " set(),\n",
       " {2, 'a'},\n",
       " {2},\n",
       " set(),\n",
       " {'a'},\n",
       " set(),\n",
       " {2, 3, 'b'},\n",
       " {2, 3},\n",
       " {3},\n",
       " set(),\n",
       " {2},\n",
       " set(),\n",
       " {3, 'b'},\n",
       " {3},\n",
       " set(),\n",
       " {'b'},\n",
       " set(),\n",
       " {2, 'b'},\n",
       " {2},\n",
       " set(),\n",
       " {'b'},\n",
       " set(),\n",
       " {3, 'a', 'b'},\n",
       " {3, 'a'},\n",
       " {3},\n",
       " set(),\n",
       " {'a'},\n",
       " set(),\n",
       " {3, 'b'},\n",
       " {3},\n",
       " set(),\n",
       " {'b'},\n",
       " set(),\n",
       " {'a', 'b'},\n",
       " {'a'},\n",
       " set(),\n",
       " {'b'},\n",
       " set()]"
      ]
     },
     "execution_count": 40,
     "metadata": {},
     "output_type": "execute_result"
    }
   ],
   "source": [
    "# Bring all sets to top-most level\n",
    "flatPowS1 = FlattenNestedList(PowS1)\n",
    "\n",
    "# Show output\n",
    "flatPowS1"
   ]
  },
  {
   "cell_type": "markdown",
   "metadata": {},
   "source": [
    "Wouldn't it be nice (in this case, at least) if set objects did nest; uniqueness and sorting operations to follow could be performed via coersion.  Alas, this is not so."
   ]
  },
  {
   "cell_type": "code",
   "execution_count": 41,
   "metadata": {},
   "outputs": [
    {
     "ename": "TypeError",
     "evalue": "unhashable type: 'set'",
     "output_type": "error",
     "traceback": [
      "\u001b[0;31m---------------------------------------------------------------------------\u001b[0m",
      "\u001b[0;31mTypeError\u001b[0m                                 Traceback (most recent call last)",
      "\u001b[0;32m<ipython-input-41-7d1d8e21b1b1>\u001b[0m in \u001b[0;36m<module>\u001b[0;34m\u001b[0m\n\u001b[0;32m----> 1\u001b[0;31m \u001b[0mflatPowS1_set\u001b[0m \u001b[0;34m=\u001b[0m \u001b[0mset\u001b[0m\u001b[0;34m(\u001b[0m\u001b[0mflatPowS1\u001b[0m\u001b[0;34m)\u001b[0m\u001b[0;34m\u001b[0m\u001b[0;34m\u001b[0m\u001b[0m\n\u001b[0m",
      "\u001b[0;31mTypeError\u001b[0m: unhashable type: 'set'"
     ]
    }
   ],
   "source": [
    "flatPowS1_set = set(flatPowS1)"
   ]
  },
  {
   "cell_type": "code",
   "execution_count": 42,
   "metadata": {},
   "outputs": [
    {
     "data": {
      "text/plain": [
       "[{2, 3, 'a', 'b'},\n",
       " {2, 'a', 'b'},\n",
       " {2, 'a'},\n",
       " {2},\n",
       " set(),\n",
       " {'a'},\n",
       " {2, 'b'},\n",
       " {'b'},\n",
       " {'a', 'b'},\n",
       " {2, 3, 'a'},\n",
       " {3, 'a'},\n",
       " {3},\n",
       " {2, 3},\n",
       " {2, 3, 'b'},\n",
       " {3, 'b'},\n",
       " {3, 'a', 'b'}]"
      ]
     },
     "execution_count": 42,
     "metadata": {},
     "output_type": "execute_result"
    }
   ],
   "source": [
    "# Remove duplicate subsets\n",
    "uniquePowS1 = FilterOutDuplicates(flatPowS1)\n",
    "\n",
    "# Show output\n",
    "uniquePowS1"
   ]
  },
  {
   "cell_type": "code",
   "execution_count": 33,
   "metadata": {},
   "outputs": [
    {
     "data": {
      "text/plain": [
       "[set(),\n",
       " {2},\n",
       " {'a'},\n",
       " {2, 'a'},\n",
       " {'b'},\n",
       " {2, 'b'},\n",
       " {'a', 'b'},\n",
       " {2, 'a', 'b'},\n",
       " {3},\n",
       " {2, 3},\n",
       " {3, 'a'},\n",
       " {2, 3, 'a'},\n",
       " {3, 'b'},\n",
       " {2, 3, 'b'},\n",
       " {3, 'a', 'b'},\n",
       " {2, 3, 'a', 'b'}]"
      ]
     },
     "execution_count": 33,
     "metadata": {},
     "output_type": "execute_result"
    }
   ],
   "source": [
    "# Sort list entries\n",
    "sortedUniquePowS1 = SortSubsets(uniquePowS1, S1)\n",
    "\n",
    "# Show output\n",
    "sortedUniquePowS1"
   ]
  },
  {
   "cell_type": "code",
   "execution_count": 197,
   "metadata": {},
   "outputs": [],
   "source": [
    "class InfDeepSet():\n",
    "    \n",
    "    def __init__(self):\n",
    "        self.val = set([MakeEmpty(), self])\n",
    "        \n",
    "    def __repr__(self):\n",
    "        return self.val.__repr__()\n",
    "    \n",
    "class MakeEmpty(InfDeepSet):\n",
    "    \n",
    "    def __init__(self):\n",
    "        self.val = set([])"
   ]
  },
  {
   "cell_type": "code",
   "execution_count": 198,
   "metadata": {},
   "outputs": [],
   "source": [
    "nestedEmptySet = InfDeepSet()"
   ]
  },
  {
   "cell_type": "code",
   "execution_count": 199,
   "metadata": {},
   "outputs": [
    {
     "data": {
      "text/plain": [
       "{set(), {set(), set(...)}}"
      ]
     },
     "execution_count": 199,
     "metadata": {},
     "output_type": "execute_result"
    }
   ],
   "source": [
    "nestedEmptySet.val"
   ]
  },
  {
   "cell_type": "code",
   "execution_count": 200,
   "metadata": {},
   "outputs": [
    {
     "data": {
      "text/plain": [
       "{set(), {set(), set(...)}}"
      ]
     },
     "execution_count": 200,
     "metadata": {},
     "output_type": "execute_result"
    }
   ],
   "source": [
    "nestedEmptySet.val - set()"
   ]
  },
  {
   "cell_type": "code",
   "execution_count": 201,
   "metadata": {},
   "outputs": [
    {
     "data": {
      "text/plain": [
       "{set(), {set(), set(...)}}"
      ]
     },
     "execution_count": 201,
     "metadata": {},
     "output_type": "execute_result"
    }
   ],
   "source": [
    "nestedEmptySet.val - set() - set() - set() - set() - set()"
   ]
  },
  {
   "cell_type": "markdown",
   "metadata": {},
   "source": [
    "Using generator expressions, take a list of sets and transform it into a set of sets."
   ]
  },
  {
   "cell_type": "code",
   "execution_count": null,
   "metadata": {},
   "outputs": [],
   "source": []
  },
  {
   "cell_type": "code",
   "execution_count": 401,
   "metadata": {},
   "outputs": [],
   "source": [
    "class ParentSet():\n",
    "    \n",
    "    def __init__(self, seedSet):\n",
    "        \n",
    "        if len(seedSet) > 0:\n",
    "            for seed in seedSet:\n",
    "                #self.val = set([(seedSet - set([seed])).__repr__(), set([seed]).__repr__()])\n",
    "                self.val = set([SetCompl(set([seed])), \n",
    "                                ParentSet(seedSet - set([seed]))])\n",
    "                #self.val = set([self.__init__(seedSet - set([seed]))])\n",
    "        else:\n",
    "            self.val = set([])\n",
    "            \n",
    "    def __repr__(self):\n",
    "        return self.val.__repr__()\n",
    "    \n",
    "class SetCompl(ParentSet):\n",
    "    \n",
    "    def __init__(self, seedSet):\n",
    "        self.val = seedSet"
   ]
  },
  {
   "cell_type": "code",
   "execution_count": 402,
   "metadata": {},
   "outputs": [
    {
     "data": {
      "text/plain": [
       "{{{{8}, set()}, {9}}, {5}}"
      ]
     },
     "execution_count": 402,
     "metadata": {},
     "output_type": "execute_result"
    }
   ],
   "source": [
    "p = ParentSet(set([5,8,9]))\n",
    "p"
   ]
  },
  {
   "cell_type": "code",
   "execution_count": 315,
   "metadata": {},
   "outputs": [],
   "source": [
    "a = (PowerSet(set([x])) for x in range(0,6))"
   ]
  },
  {
   "cell_type": "code",
   "execution_count": 316,
   "metadata": {},
   "outputs": [],
   "source": [
    "b = list(a)"
   ]
  },
  {
   "cell_type": "code",
   "execution_count": 361,
   "metadata": {},
   "outputs": [
    {
     "data": {
      "text/plain": [
       "'{7}'"
      ]
     },
     "execution_count": 361,
     "metadata": {},
     "output_type": "execute_result"
    }
   ],
   "source": [
    "c = SetCompl(SetCompl(set([7])))"
   ]
  },
  {
   "cell_type": "code",
   "execution_count": 320,
   "metadata": {},
   "outputs": [
    {
     "ename": "TypeError",
     "evalue": "eval() arg 1 must be a string, bytes or code object",
     "output_type": "error",
     "traceback": [
      "\u001b[0;31m---------------------------------------------------------------------------\u001b[0m",
      "\u001b[0;31mTypeError\u001b[0m                                 Traceback (most recent call last)",
      "\u001b[0;32m<ipython-input-320-e1ea98856c44>\u001b[0m in \u001b[0;36m<module>\u001b[0;34m\u001b[0m\n\u001b[0;32m----> 1\u001b[0;31m \u001b[0meval\u001b[0m\u001b[0;34m(\u001b[0m\u001b[0ma\u001b[0m\u001b[0;34m)\u001b[0m\u001b[0;34m\u001b[0m\u001b[0;34m\u001b[0m\u001b[0m\n\u001b[0m",
      "\u001b[0;31mTypeError\u001b[0m: eval() arg 1 must be a string, bytes or code object"
     ]
    }
   ],
   "source": [
    "eval(a)"
   ]
  },
  {
   "cell_type": "code",
   "execution_count": 476,
   "metadata": {},
   "outputs": [],
   "source": [
    "class NestedSet():\n",
    "    \n",
    "    def __init__(self, setElement, depth):\n",
    "        \n",
    "        if depth > 0:\n",
    "            self.val = set([NestedSet(setElement, depth - 1)])\n",
    "        else:\n",
    "            self.val = setElement\n",
    "        \n",
    "    def __repr__(self):\n",
    "        return self.val.__repr__()\n",
    "    \n",
    "class ModSet(SetNester):\n",
    "    \n",
    "    def __init__(self, setElement):\n",
    "        self.val = setElement"
   ]
  },
  {
   "cell_type": "code",
   "execution_count": 478,
   "metadata": {},
   "outputs": [
    {
     "data": {
      "text/plain": [
       "{{{(4, 2), 4.3}}}"
      ]
     },
     "execution_count": 478,
     "metadata": {},
     "output_type": "execute_result"
    }
   ],
   "source": [
    "d = NestedSet(ModSet({(4,2),4.3}),2)\n",
    "d"
   ]
  },
  {
   "cell_type": "code",
   "execution_count": 1050,
   "metadata": {},
   "outputs": [],
   "source": [
    "class ModSet():\n",
    "    \n",
    "    def __init__(self, setElement):\n",
    "        self.val = setElement\n",
    "        \n",
    "    def __repr__(self):\n",
    "        return self.val.__repr__()\n",
    "    \n",
    "    def __copy__(self):\n",
    "        return ModSet(self.val)\n",
    "        \n",
    "    def pushDown(self, depth):\n",
    "        while depth > 0:\n",
    "            self.val = set([ModSet(self.val)])\n",
    "            depth -= 1     \n",
    "    \n",
    "    def pullUpOneLevel(self):\n",
    "        listSet = list(self.val)\n",
    "        if len(listSet) == 1:\n",
    "            self.val = listSet[0].val\n",
    "        else:\n",
    "            pass\n",
    "    \n",
    "    def pullUp(self, height):\n",
    "        while height > 0:\n",
    "            self.pullUpOneLevel()\n",
    "            height -= 1\n",
    "        \n",
    "    def union(self, *modSets):\n",
    "        for modSet in modSets:\n",
    "            self.val = self.val.union(modSet.val)\n",
    "        \n",
    "    def intersection(self, *modSets):\n",
    "        for modSet in modSets:\n",
    "            self.val = self.val.intersection(modSet.val)\n",
    "            \n",
    "    def difference(self, *modSets):\n",
    "        for modSet in modSets:\n",
    "            self.val = self.val.difference(modSet.val)\n",
    "            \n",
    "    def diffFunc(modSet1, modSet2):\n",
    "        return ModSet(set.difference(modSet1.val, modSet2.val))\n",
    "    \n",
    "    def powerSet(self):\n",
    "        \n",
    "        pSet = self.__copy__()\n",
    "        pSet.pushDown(1)\n",
    "              \n",
    "        if len(self.val) > 0:\n",
    "            for elSet in self.val:\n",
    "                dummySet = self.diffFunc(ModSet(set([elSet]))) \n",
    "                pSet.union(dummySet.powerSet())\n",
    "            return pSet\n",
    "        else:\n",
    "            return ModSet(set())\n",
    "        \n",
    "    def FilterOutDuplicates(self):\n",
    "        uniqueModSet = ModSet(set([]))\n",
    "        for s in self.val:\n",
    "            inUniqueSet = False\n",
    "            for us in uniqueModSet.val:\n",
    "                if us.val == s.val:\n",
    "                    inUniqueSet = True\n",
    "                    print('match')\n",
    "            if not inUniqueSet:\n",
    "                uniqueModSet.val.add(s)\n",
    "        self.val = uniqueModSet.val\n",
    "            \n",
    "class NestedSet(ModSet):\n",
    "    \n",
    "    def __init__(self, setElement, depth):\n",
    "        \n",
    "        if depth > 0:\n",
    "            self.val = set([NestedSet(setElement, depth - 1)])\n",
    "        else:\n",
    "            self.val = setElement"
   ]
  },
  {
   "cell_type": "code",
   "execution_count": 1051,
   "metadata": {},
   "outputs": [
    {
     "data": {
      "text/plain": [
       "{'arse', 'a', 3.14, 5}"
      ]
     },
     "execution_count": 1051,
     "metadata": {},
     "output_type": "execute_result"
    }
   ],
   "source": [
    "b = ModSet({5, 'a', 3.14,'arse'})\n",
    "b.pushDown(3)\n",
    "b.pullUp(5)\n",
    "b"
   ]
  },
  {
   "cell_type": "code",
   "execution_count": null,
   "metadata": {},
   "outputs": [],
   "source": []
  },
  {
   "cell_type": "code",
   "execution_count": 1052,
   "metadata": {},
   "outputs": [
    {
     "data": {
      "text/plain": [
       "__main__.ModSet"
      ]
     },
     "execution_count": 1052,
     "metadata": {},
     "output_type": "execute_result"
    }
   ],
   "source": [
    "pSet=b.powerSet()\n",
    "type(pSet)"
   ]
  },
  {
   "cell_type": "code",
   "execution_count": 1053,
   "metadata": {},
   "outputs": [
    {
     "name": "stdout",
     "output_type": "stream",
     "text": [
      "{'arse', 5}\n",
      "<class '__main__.ModSet'>\n",
      "False\n",
      "{'arse'}\n",
      "<class '__main__.ModSet'>\n",
      "False\n",
      "{3.14, 5}\n",
      "<class '__main__.ModSet'>\n",
      "False\n",
      "{'a'}\n",
      "<class '__main__.ModSet'>\n",
      "False\n",
      "{'arse', 'a'}\n",
      "<class '__main__.ModSet'>\n",
      "False\n",
      "{3.14}\n",
      "<class '__main__.ModSet'>\n",
      "False\n",
      "{'arse'}\n",
      "<class '__main__.ModSet'>\n",
      "False\n",
      "{'arse'}\n",
      "<class '__main__.ModSet'>\n",
      "False\n",
      "{3.14, 5}\n",
      "<class '__main__.ModSet'>\n",
      "False\n",
      "{3.14}\n",
      "<class '__main__.ModSet'>\n",
      "False\n",
      "{'a', 3.14}\n",
      "<class '__main__.ModSet'>\n",
      "False\n",
      "{5}\n",
      "<class '__main__.ModSet'>\n",
      "False\n",
      "{'a', 5}\n",
      "<class '__main__.ModSet'>\n",
      "True\n",
      "{5}\n",
      "<class '__main__.ModSet'>\n",
      "False\n",
      "{'arse', 5}\n",
      "<class '__main__.ModSet'>\n",
      "False\n",
      "{'a'}\n",
      "<class '__main__.ModSet'>\n",
      "False\n",
      "{'a'}\n",
      "<class '__main__.ModSet'>\n",
      "False\n",
      "{'a', 5}\n",
      "<class '__main__.ModSet'>\n",
      "True\n",
      "{5}\n",
      "<class '__main__.ModSet'>\n",
      "False\n",
      "{'a'}\n",
      "<class '__main__.ModSet'>\n",
      "False\n",
      "{'arse'}\n",
      "<class '__main__.ModSet'>\n",
      "False\n",
      "{'a', 3.14, 5}\n",
      "<class '__main__.ModSet'>\n",
      "False\n",
      "{'arse', 3.14}\n",
      "<class '__main__.ModSet'>\n",
      "False\n",
      "{'arse', 'a', 3.14, 5}\n",
      "<class '__main__.ModSet'>\n",
      "False\n",
      "{'a', 3.14}\n",
      "<class '__main__.ModSet'>\n",
      "False\n",
      "{5}\n",
      "<class '__main__.ModSet'>\n",
      "False\n",
      "{'a'}\n",
      "<class '__main__.ModSet'>\n",
      "False\n",
      "{'arse', 3.14, 5}\n",
      "<class '__main__.ModSet'>\n",
      "False\n",
      "{3.14}\n",
      "<class '__main__.ModSet'>\n",
      "False\n",
      "{'arse'}\n",
      "<class '__main__.ModSet'>\n",
      "False\n",
      "{'arse'}\n",
      "<class '__main__.ModSet'>\n",
      "False\n",
      "{3.14}\n",
      "<class '__main__.ModSet'>\n",
      "False\n",
      "{'arse', 'a', 3.14}\n",
      "<class '__main__.ModSet'>\n",
      "False\n",
      "{'arse', 'a'}\n",
      "<class '__main__.ModSet'>\n",
      "False\n",
      "{'arse', 3.14}\n",
      "<class '__main__.ModSet'>\n",
      "False\n",
      "{3.14}\n",
      "<class '__main__.ModSet'>\n",
      "False\n",
      "{5}\n",
      "<class '__main__.ModSet'>\n",
      "False\n",
      "{'a'}\n",
      "<class '__main__.ModSet'>\n",
      "False\n",
      "{3.14}\n",
      "<class '__main__.ModSet'>\n",
      "False\n",
      "{'arse', 'a', 5}\n",
      "<class '__main__.ModSet'>\n",
      "False\n",
      "{5}\n",
      "<class '__main__.ModSet'>\n",
      "False\n"
     ]
    }
   ],
   "source": [
    "for s in pSet.val:\n",
    "    print(s)\n",
    "    print(type(s))\n",
    "    print(s.val == ModSet({'a', 5}).val)"
   ]
  },
  {
   "cell_type": "code",
   "execution_count": 1054,
   "metadata": {},
   "outputs": [
    {
     "data": {
      "text/plain": [
       "set"
      ]
     },
     "execution_count": 1054,
     "metadata": {},
     "output_type": "execute_result"
    }
   ],
   "source": [
    "type(pSet.val)"
   ]
  },
  {
   "cell_type": "code",
   "execution_count": 1055,
   "metadata": {},
   "outputs": [
    {
     "data": {
      "text/plain": [
       "__main__.ModSet"
      ]
     },
     "execution_count": 1055,
     "metadata": {},
     "output_type": "execute_result"
    }
   ],
   "source": [
    "type(list(pSet.val)[0])"
   ]
  },
  {
   "cell_type": "code",
   "execution_count": 1056,
   "metadata": {},
   "outputs": [
    {
     "data": {
      "text/plain": [
       "set"
      ]
     },
     "execution_count": 1056,
     "metadata": {},
     "output_type": "execute_result"
    }
   ],
   "source": [
    "type(list(pSet.val)[17].val)"
   ]
  },
  {
   "cell_type": "code",
   "execution_count": 1057,
   "metadata": {},
   "outputs": [
    {
     "data": {
      "text/plain": [
       "False"
      ]
     },
     "execution_count": 1057,
     "metadata": {},
     "output_type": "execute_result"
    }
   ],
   "source": [
    "pSetList = list(pSet.val)\n",
    "pSetList\n",
    "pSetList[5].val == pSetList[0].val"
   ]
  },
  {
   "cell_type": "code",
   "execution_count": 1058,
   "metadata": {},
   "outputs": [
    {
     "data": {
      "text/plain": [
       "False"
      ]
     },
     "execution_count": 1058,
     "metadata": {},
     "output_type": "execute_result"
    }
   ],
   "source": [
    "pSetList[5].val is pSetList[0].val"
   ]
  },
  {
   "cell_type": "code",
   "execution_count": 1059,
   "metadata": {},
   "outputs": [
    {
     "name": "stdout",
     "output_type": "stream",
     "text": [
      "match\n",
      "match\n",
      "match\n",
      "match\n",
      "match\n",
      "match\n",
      "match\n",
      "match\n",
      "match\n",
      "match\n",
      "match\n",
      "match\n",
      "match\n",
      "match\n",
      "match\n",
      "match\n",
      "match\n",
      "match\n",
      "match\n",
      "match\n",
      "match\n",
      "match\n",
      "match\n",
      "match\n",
      "match\n",
      "match\n"
     ]
    },
    {
     "data": {
      "text/plain": [
       "{{'a', 3.14, 5},\n",
       " {'a', 3.14},\n",
       " {'a', 5},\n",
       " {'a'},\n",
       " {'arse', 'a', 3.14, 5},\n",
       " {'arse', 'a', 3.14},\n",
       " {'arse', 'a', 5},\n",
       " {'arse', 'a'},\n",
       " {'arse', 3.14, 5},\n",
       " {'arse', 3.14},\n",
       " {'arse', 5},\n",
       " {'arse'},\n",
       " {3.14, 5},\n",
       " {3.14},\n",
       " {5}}"
      ]
     },
     "execution_count": 1059,
     "metadata": {},
     "output_type": "execute_result"
    }
   ],
   "source": [
    "pSet.FilterOutDuplicates()\n",
    "pSet.val"
   ]
  },
  {
   "cell_type": "code",
   "execution_count": 1064,
   "metadata": {},
   "outputs": [
    {
     "data": {
      "text/plain": [
       "set"
      ]
     },
     "execution_count": 1064,
     "metadata": {},
     "output_type": "execute_result"
    }
   ],
   "source": [
    "pSet.union(ModSet(set()))\n",
    "pSet.difference(pSet)\n",
    "type(pSet.val)"
   ]
  },
  {
   "cell_type": "code",
   "execution_count": 1049,
   "metadata": {},
   "outputs": [
    {
     "data": {
      "text/plain": [
       "set"
      ]
     },
     "execution_count": 1049,
     "metadata": {},
     "output_type": "execute_result"
    }
   ],
   "source": [
    "junk = ModSet(set())\n",
    "type(junk.val)"
   ]
  },
  {
   "cell_type": "code",
   "execution_count": null,
   "metadata": {
    "collapsed": true
   },
   "outputs": [],
   "source": [
    "\n",
    "\n",
    "c = ModSet({6,'a',78,5})\n",
    "d = ModSet({5,'arse','a'})\n",
    "c.union(d)\n",
    "c"
   ]
  },
  {
   "cell_type": "code",
   "execution_count": 688,
   "metadata": {},
   "outputs": [
    {
     "data": {
      "text/plain": [
       "set"
      ]
     },
     "execution_count": 688,
     "metadata": {},
     "output_type": "execute_result"
    }
   ],
   "source": [
    "type(b.val)"
   ]
  },
  {
   "cell_type": "code",
   "execution_count": 786,
   "metadata": {},
   "outputs": [
    {
     "name": "stdout",
     "output_type": "stream",
     "text": [
      "{{'arse', 'a', 3.14, 5}}\n",
      "<class 'method'>\n",
      "{{'arse', 'a', 3.14}, {'a', 3.14, 5}, {'arse', 'a', 5}, {'arse', 'a', 3.14, 5}, {'arse', 3.14, 5}}\n"
     ]
    }
   ],
   "source": [
    "pSet = b.__copy__()\n",
    "pSet.pushDown(1)\n",
    "#pSet.union(ModSet({3,4}))\n",
    "print(pSet)\n",
    "print(type(pSet.union))\n",
    "for elSet in b.val:\n",
    "    dummySet = b.diffFunc(ModSet(set([elSet])))\n",
    "    dummySet.pushDown(1)\n",
    "    pSet.union(dummySet)\n",
    "print(pSet)"
   ]
  },
  {
   "cell_type": "code",
   "execution_count": 759,
   "metadata": {},
   "outputs": [
    {
     "data": {
      "text/plain": [
       "method"
      ]
     },
     "execution_count": 759,
     "metadata": {},
     "output_type": "execute_result"
    }
   ],
   "source": [
    "type(dummySet.powerSet)"
   ]
  },
  {
   "cell_type": "code",
   "execution_count": 735,
   "metadata": {},
   "outputs": [
    {
     "data": {
      "text/plain": [
       "{'a', 5, 6, 78}"
      ]
     },
     "execution_count": 735,
     "metadata": {},
     "output_type": "execute_result"
    }
   ],
   "source": [
    "ModSet.diffFunc(c,b)"
   ]
  },
  {
   "cell_type": "code",
   "execution_count": null,
   "metadata": {},
   "outputs": [],
   "source": []
  }
 ],
 "metadata": {
  "kernelspec": {
   "display_name": "Python 3",
   "language": "python",
   "name": "python3"
  },
  "language_info": {
   "codemirror_mode": {
    "name": "ipython",
    "version": 3
   },
   "file_extension": ".py",
   "mimetype": "text/x-python",
   "name": "python",
   "nbconvert_exporter": "python",
   "pygments_lexer": "ipython3",
   "version": "3.7.3"
  }
 },
 "nbformat": 4,
 "nbformat_minor": 4
}
