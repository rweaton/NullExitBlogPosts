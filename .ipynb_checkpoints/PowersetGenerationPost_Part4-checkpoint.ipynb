{
 "cells": [
  {
   "cell_type": "markdown",
   "metadata": {},
   "source": [
    "<div id=\"Post-title\"><h1>Power sets in Python: an object-oriented approach (part 4)</h1></div>"
   ]
  },
  {
   "cell_type": "markdown",
   "metadata": {},
   "source": [
    "<div id=\"Contents\"><h2>Contents</h2></div>"
   ]
  },
  {
   "cell_type": "markdown",
   "metadata": {},
   "source": [
    "<style>\n",
    "  ol\n",
    "  {\n",
    "    list-style-type: none\n",
    "  }\n",
    "</style>\n",
    "<ol>\n",
    "<li><a href=\"#Overview\"><cn1>Overview</cn1></a></li>\n",
    "<li><a href=\"#A-more-efficient-power-set-construction-algorithm\"><cn1>A more efficient power set construction algorithm</cn1></a></li>\n",
    "<li><a href=\"#Testing-the-mixed-algorithm\"><cn1>Testing the \"mixed\" algorithm</cn1></a></li>\n",
    "<li><a href=\"#Comparing-power-set-generator-run-times\"><cn1>Comparing power set generator run-times</cn1></a>\n",
    "    <ol>\n",
    "    <li><a href=\"#Repeatedly-run-generators-in-randomized-sequence\"><cn2>Repeatedly run generators in randomized sequence<cn2></a></li>\n",
    "    <li><a href=\"#Plot-generator-run-time-histograms\"><cn2>Plot generator run-time histograms</cn2></a></li>\n",
    "    <li><a href=\"#Generator-run-times-are-not-normally-distributed\"><cn2>Generator run-times are not normally distributed</cn2></a></li>\n",
    "    <li><a href=\"#Mann-whitney-test-for-stochastic-difference\"><cn2>Mann-Whitney test for stochastic difference</cn2></a></li>\n",
    "    <li><a href=\"#Difference-between-bootstrapped-means-test\"><cn2>Difference between bootstrapped means test</cn2></a></li>\n",
    "    </ol>\n",
    "    </li>\n",
    "<li><a href=\"#Sources\"><cn1>Sources</cn1></div></li>\n",
    "<li><a href=\"#The-complete-modset-class\"><cn1>The complete ModSet() class</cn1></a></li>\n",
    "</ol>"
   ]
  },
  {
   "cell_type": "markdown",
   "metadata": {},
   "source": [
    "<div id=\"Overview\"><h2>Overview</h2></div>"
   ]
  },
  {
   "cell_type": "markdown",
   "metadata": {},
   "source": [
    "Back in <a href=\"https://nullexit.org/blog/index.php/2021/01/27/power-sets-in-python-an-object-oriented-approach-part-1/\">part 1</a>, we mentioned that it had come to our attention that other recursive  approaches exist for constructing power sets. Here, in this post, we make good on our promise to investigate.  Below we incorporate  as an additional method within the `ModSet()` object class. We'll walk through the \"command flow\"<sup><a href=#fn1>1</a></sup> of the new routine then run it, alongside our previous power set generators, `ModSet.powerSet_bin()` and `ModSet.powerSet_rec()`, to compare average runtimes of the three algorithms constructing from a common source set."
   ]
  },
  {
   "cell_type": "markdown",
   "metadata": {},
   "source": [
    "<div id=\"A-more-efficient-power-set-construction-algorithm\"><h2>A more efficient power set construction algorithm</h2></div>"
   ]
  },
  {
   "cell_type": "code",
   "execution_count": null,
   "metadata": {
    "scrolled": true
   },
   "outputs": [],
   "source": [
    "class ModSet():\n",
    "    .\n",
    "    .\n",
    "    .\n",
    "    def powerSet_mix(self):  # self.val is a set with reg. elements\n",
    "        \n",
    "        if len(self.val) > 0:  # if self.val is not empty do the following\n",
    "\n",
    "            el = list(self.val)[-1] # obtain last element of self.val set\n",
    "            el = ModSet(set([el])) # insert element within a ModSet\n",
    "            T = self.diffFunc(el) # get ModSet complement of self by set-subtracting el\n",
    "            pSet = T.powerSet_mix() # self-call to obtain power set of ModSet complement\n",
    "            # copy the power set of complement, need it kept unaltered from subsequent mods\n",
    "            extSet = ModSet(set([i.__copy__() for i in pSet.val])) # element-by-element copy\n",
    "            for s in extSet.val: # iterate through each subset in the power set of complement\n",
    "                s.union(el) # union-join the stripped element to each member subset\n",
    "            extSet.union(pSet) # union-join modified extSet to power set of complement\n",
    "            return extSet # return result which is power set of self\n",
    "        \n",
    "        else:  # if self.val is empty\n",
    "            dummySet = ModSet(set())  # construct ModSet of empty\n",
    "            dummySet.pushDown(1) # nest down 1 level\n",
    "            return dummySet # return power set (nested ModSet instance) that \n",
    "                            # includes only singleton subset as member"
   ]
  },
  {
   "cell_type": "markdown",
   "metadata": {},
   "source": [
    "<div id=\"Testing-the-mixed-algorithm\"><h2>Testing the \"mixed\" algorithm</h2></div>"
   ]
  },
  {
   "cell_type": "code",
   "execution_count": 2,
   "metadata": {
    "scrolled": true
   },
   "outputs": [],
   "source": [
    "teamPrez = ModSet(set(['KellyanneC', 'SeanS', 'AnthonyS', 'SarahHS', 'StephanieG', 'KayleighMcE']))"
   ]
  },
  {
   "cell_type": "code",
   "execution_count": 3,
   "metadata": {
    "scrolled": true
   },
   "outputs": [
    {
     "data": {
      "text/plain": [
       "{set(),\n",
       " {'AnthonyS', 'SarahHS'},\n",
       " {'AnthonyS', 'StephanieG'},\n",
       " {'AnthonyS'},\n",
       " {'KayleighMcE', 'AnthonyS', 'SarahHS'},\n",
       " {'KayleighMcE', 'AnthonyS', 'StephanieG'},\n",
       " {'KayleighMcE', 'AnthonyS'},\n",
       " {'KayleighMcE', 'KellyanneC', 'StephanieG', 'SeanS', 'AnthonyS'},\n",
       " {'KayleighMcE', 'SarahHS', 'KellyanneC', 'SeanS', 'AnthonyS'},\n",
       " {'KayleighMcE', 'SarahHS', 'KellyanneC', 'StephanieG', 'SeanS', 'AnthonyS'},\n",
       " {'KayleighMcE', 'SarahHS', 'KellyanneC', 'StephanieG', 'SeanS'},\n",
       " {'KayleighMcE', 'SarahHS', 'StephanieG', 'KellyanneC', 'AnthonyS'},\n",
       " {'KayleighMcE', 'SarahHS', 'StephanieG', 'SeanS', 'AnthonyS'},\n",
       " {'KayleighMcE', 'SarahHS', 'StephanieG'},\n",
       " {'KayleighMcE', 'SarahHS'},\n",
       " {'KayleighMcE', 'StephanieG'},\n",
       " {'KayleighMcE'},\n",
       " {'KellyanneC', 'AnthonyS', 'SarahHS'},\n",
       " {'KellyanneC', 'AnthonyS', 'StephanieG'},\n",
       " {'KellyanneC', 'AnthonyS'},\n",
       " {'KellyanneC', 'KayleighMcE', 'AnthonyS', 'SarahHS'},\n",
       " {'KellyanneC', 'KayleighMcE', 'AnthonyS', 'StephanieG'},\n",
       " {'KellyanneC', 'KayleighMcE', 'AnthonyS'},\n",
       " {'KellyanneC', 'KayleighMcE', 'SarahHS', 'StephanieG'},\n",
       " {'KellyanneC', 'KayleighMcE', 'SarahHS'},\n",
       " {'KellyanneC', 'KayleighMcE', 'SeanS', 'AnthonyS'},\n",
       " {'KellyanneC', 'KayleighMcE', 'SeanS', 'SarahHS'},\n",
       " {'KellyanneC', 'KayleighMcE', 'SeanS', 'StephanieG'},\n",
       " {'KellyanneC', 'KayleighMcE', 'SeanS'},\n",
       " {'KellyanneC', 'KayleighMcE', 'StephanieG'},\n",
       " {'KellyanneC', 'KayleighMcE'},\n",
       " {'KellyanneC', 'SarahHS', 'StephanieG'},\n",
       " {'KellyanneC', 'SarahHS'},\n",
       " {'KellyanneC', 'SeanS', 'AnthonyS', 'SarahHS'},\n",
       " {'KellyanneC', 'SeanS', 'AnthonyS', 'StephanieG'},\n",
       " {'KellyanneC', 'SeanS', 'AnthonyS'},\n",
       " {'KellyanneC', 'SeanS', 'SarahHS', 'StephanieG'},\n",
       " {'KellyanneC', 'SeanS', 'SarahHS'},\n",
       " {'KellyanneC', 'SeanS', 'StephanieG'},\n",
       " {'KellyanneC', 'SeanS'},\n",
       " {'KellyanneC', 'StephanieG', 'AnthonyS', 'SarahHS'},\n",
       " {'KellyanneC', 'StephanieG'},\n",
       " {'KellyanneC'},\n",
       " {'SarahHS', 'KellyanneC', 'StephanieG', 'SeanS', 'AnthonyS'},\n",
       " {'SarahHS', 'StephanieG'},\n",
       " {'SarahHS'},\n",
       " {'SeanS', 'AnthonyS', 'SarahHS'},\n",
       " {'SeanS', 'AnthonyS', 'StephanieG'},\n",
       " {'SeanS', 'AnthonyS'},\n",
       " {'SeanS', 'KayleighMcE', 'AnthonyS', 'SarahHS'},\n",
       " {'SeanS', 'KayleighMcE', 'AnthonyS', 'StephanieG'},\n",
       " {'SeanS', 'KayleighMcE', 'AnthonyS'},\n",
       " {'SeanS', 'KayleighMcE', 'SarahHS', 'StephanieG'},\n",
       " {'SeanS', 'KayleighMcE', 'SarahHS'},\n",
       " {'SeanS', 'KayleighMcE', 'StephanieG'},\n",
       " {'SeanS', 'KayleighMcE'},\n",
       " {'SeanS', 'SarahHS', 'StephanieG'},\n",
       " {'SeanS', 'SarahHS'},\n",
       " {'SeanS', 'StephanieG', 'AnthonyS', 'SarahHS'},\n",
       " {'SeanS', 'StephanieG'},\n",
       " {'SeanS'},\n",
       " {'StephanieG', 'AnthonyS', 'SarahHS'},\n",
       " {'StephanieG', 'KayleighMcE', 'AnthonyS', 'SarahHS'},\n",
       " {'StephanieG'}}"
      ]
     },
     "execution_count": 3,
     "metadata": {},
     "output_type": "execute_result"
    }
   ],
   "source": [
    "pSet = teamPrez.powerSet_mix()\n",
    "pSet.val"
   ]
  },
  {
   "cell_type": "markdown",
   "metadata": {},
   "source": [
    "<div id=\"Comparing-power-set-generator-run-times\"><h2>Comparing power set generator run-times</h2></div>"
   ]
  },
  {
   "cell_type": "markdown",
   "metadata": {},
   "source": [
    "<div id=\"Repeatedly-run-generators-in-randomized-sequence\"><h3>Repeatedly run generators in randomized sequence</h3></div>"
   ]
  },
  {
   "cell_type": "code",
   "execution_count": 4,
   "metadata": {
    "scrolled": true
   },
   "outputs": [],
   "source": [
    "import numpy as np\n",
    "import nonparametric_stats as nps\n",
    "\n",
    "durs = nps.genDurationsDists(500, teamPrez.powerSet_bin, \n",
    "                    teamPrez.powerSet_rec, teamPrez.powerSet_mix)\n",
    "# use generator output to construct numpy array of duration distributions\n",
    "durs = (10**3)*np.array(tuple(durs)) # convert to msec units\n",
    "labels = np.array(['bin.', 'rec.', 'mix.']) # to keep track of which is which"
   ]
  },
  {
   "cell_type": "code",
   "execution_count": null,
   "metadata": {},
   "outputs": [],
   "source": [
    "# cell for reloading nonparametric_stats module\n",
    "import importlib\n",
    "importlib.reload(nps)"
   ]
  },
  {
   "cell_type": "code",
   "execution_count": 5,
   "metadata": {},
   "outputs": [],
   "source": [
    "# Get color cycle used by matplotlib\n",
    "import matplotlib.pyplot as plt\n",
    "prop_cycle = plt.rcParams['axes.prop_cycle']\n",
    "colors = prop_cycle.by_key()['color']"
   ]
  },
  {
   "cell_type": "markdown",
   "metadata": {},
   "source": [
    "<div id=\"Plot-generator-run-time-histograms\"><h3>Plot generator run-time histograms</h3></div>"
   ]
  },
  {
   "cell_type": "code",
   "execution_count": 6,
   "metadata": {
    "scrolled": true
   },
   "outputs": [
    {
     "data": {
      "text/plain": [
       "<matplotlib.legend.Legend at 0x7f2262df4c50>"
      ]
     },
     "execution_count": 6,
     "metadata": {},
     "output_type": "execute_result"
    },
    {
     "data": {
      "image/png": "[encoded data removed]",
      "text/plain": [
       "<Figure size 720x360 with 1 Axes>"
      ]
     },
     "metadata": {
      "needs_background": "light"
     },
     "output_type": "display_data"
    }
   ],
   "source": [
    "plt.rcParams['figure.figsize'] = [7, 5]\n",
    "\n",
    "ax = nps.histPlotter(80, *durs, labels=labels, colors=colors)\n",
    "ax.set_title('Runtime durations of 3 power set generators')\n",
    "ax.set_xlabel('duration (msec.)')\n",
    "ax.set_ylabel('counts')\n",
    "ax.legend()"
   ]
  },
  {
   "cell_type": "markdown",
   "metadata": {},
   "source": [
    "<div id=\"Generator-run-times-are-not-normally-distributed\"><h3>Generator run-times are not normally distributed</h3></dif>"
   ]
  },
  {
   "cell_type": "code",
   "execution_count": 7,
   "metadata": {
    "scrolled": true
   },
   "outputs": [
    {
     "data": {
      "image/png": "[encoded data removed]",
      "text/plain": [
       "<Figure size 720x360 with 3 Axes>"
      ]
     },
     "metadata": {
      "needs_background": "light"
     },
     "output_type": "display_data"
    }
   ],
   "source": [
    "fig, axs = plt.subplots(nrows=1, ncols=3)\n",
    "fig.tight_layout()\n",
    "\n",
    "for i in range(0,3):\n",
    "    nps.qqPlotter_normal(durs[i], 30, axes=axs[i], color=colors[i])\n",
    "    axs[i].set_title(labels[i] + ' gen. Q-Q')\n",
    "    axs[i].set_xlabel('theoretical normal')\n",
    "    if i == 0:\n",
    "        axs[i].set_ylabel('data')"
   ]
  },
  {
   "cell_type": "markdown",
   "metadata": {},
   "source": [
    "<div id=\"Mann-whitney-test-for-stochastic-difference\"><h3>Mann-Whitney test for stochastic difference</h3></div>"
   ]
  },
  {
   "cell_type": "code",
   "execution_count": 8,
   "metadata": {
    "scrolled": true
   },
   "outputs": [
    {
     "name": "stdout",
     "output_type": "stream",
     "text": [
      "Median and Mean Bin. Mask PS gen. duration: 14.26077, 14.42222 sec.\n",
      "Median and Mean Mixed PS gen. duration: 1.07157, 1.12860 sec.\n",
      "Mann-Whitney U statistic: 0.00, p-value: 2.93e-165\n"
     ]
    }
   ],
   "source": [
    "from scipy.stats import mannwhitneyu as mwu\n",
    "med_bin = np.median(durs[0]) # compute median duration of Bin. Mask PS durations\n",
    "mean_bin = np.mean(durs[0])\n",
    "med_mix = np.median(durs[2]) # compute median duration of Recursive PS durations\n",
    "mean_mix = np.mean(durs[2])\n",
    "print('Median and Mean Bin. Mask PS gen. duration: %0.5f, %0.5f sec.'%(med_bin, mean_bin))\n",
    "print('Median and Mean Mixed PS gen. duration: %0.5f, %0.5f sec.'%(med_mix, mean_mix))\n",
    "# Run non-parametric test to determine if differences between \n",
    "# distributions are statistically significant\n",
    "uStat, pVal = mwu(durs[0], durs[2])\n",
    "print('Mann-Whitney U statistic: %0.2f, p-value: %0.2e'%(uStat, pVal))"
   ]
  },
  {
   "cell_type": "markdown",
   "metadata": {},
   "source": [
    "<div id=\"Difference-between-bootstrapped-means-test\"><h3>Difference between bootstrapped means test</h3></div>"
   ]
  },
  {
   "cell_type": "code",
   "execution_count": 9,
   "metadata": {
    "scrolled": true
   },
   "outputs": [
    {
     "data": {
      "image/png": "[encoded data removed]",
      "text/plain": [
       "<Figure size 720x360 with 6 Axes>"
      ]
     },
     "metadata": {
      "needs_background": "light"
     },
     "output_type": "display_data"
    }
   ],
   "source": [
    "nReps = 1999\n",
    "fig, axs = plt.subplots(nrows=3, ncols=2)\n",
    "fig.tight_layout()\n",
    "distList = [(0, 2), (1, 0), (1, 2)]\n",
    "diffLabels = [labels[distList[i][0]] + '-' + \n",
    "              labels[distList[i][1]] for i in range(0, 3)]\n",
    "simDiffs = np.zeros((3,nReps))\n",
    "\n",
    "for i in range(0, 3):\n",
    "    \n",
    "    simDiffs[i,:] = nps.bootstrapMC(nps.diffMeans, nReps, *durs[distList[i],:])\n",
    "    nps.histPlotter(30, simDiffs[i,:], axes=axs[i,0], labels=[diffLabels[i]],\n",
    "                   colors=[colors[i+3]])\n",
    "    if i == 0:\n",
    "        axs[i,0].set_title('Difference between bootstrapped means, R = %s'%(nReps,))\n",
    "    if i == 2:\n",
    "        axs[i,0].set_xlabel('duration (msec.)')\n",
    "        \n",
    "    axs[i,0].set_ylabel('counts')\n",
    "    #ax.legend()\n",
    "\n",
    "    nps.qqPlotter_normal(simDiffs[i,:], 15, axes=axs[i,1], color=colors[i+3])\n",
    "    axs[i,1].set_title(diffLabels[i] + ' Q-Q')\n",
    "    if i == 2:\n",
    "        axs[i,1].set_xlabel('theor. normal')\n",
    "    axs[i,1].set_ylabel('data')"
   ]
  },
  {
   "cell_type": "markdown",
   "metadata": {},
   "source": [
    "<div id=\"Sources\"><h2>Sources</h2></div>"
   ]
  },
  {
   "cell_type": "markdown",
   "metadata": {},
   "source": [
    "1. Wikipedia, Power set, <a href=\"https://en.wikipedia.org/wiki/Power_set#Recursive_definition\">Recursive definition</a>."
   ]
  },
  {
   "cell_type": "markdown",
   "metadata": {},
   "source": [
    "<div id=\"fn1\"><footnote><sup>1</sup>The terms \"control flow\" or \"flow of control\" is typically reserved for iterative-based programs rather than recursive ones. Here we use the term simply to give a name to the sequential description we will provide in our attempt to familiarize the reader with the inner workings of the routine.</footnote></div>"
   ]
  },
  {
   "cell_type": "markdown",
   "metadata": {},
   "source": [
    "<div id=\"The-complete-modset-class\"><h2>The complete ModSet() class</h2></div>"
   ]
  },
  {
   "cell_type": "markdown",
   "metadata": {},
   "source": [
    "You can download `ModSet()`'s complete definition from github: <a href=\"https://github.com/rweaton/NullExitBlogPosts/blob/main/PowersetGenerationPost/modset.py\">modset.py</a>"
   ]
  },
  {
   "cell_type": "raw",
   "metadata": {},
   "source": [
    "<a rel=\"license\" href=\"http://creativecommons.org/licenses/by/4.0/\"><img alt=\"Creative Commons License\" style=\"border-width:0\" src=\"https://i.creativecommons.org/l/by/4.0/88x31.png\" /></a><br /><span xmlns:dct=\"http://purl.org/dc/terms/\" property=\"dct:title\">The ModSet() class</span> by <a xmlns:cc=\"http://creativecommons.org/ns#\" href=\"nullexit.org\" property=\"cc:attributionName\" rel=\"cc:attributionURL\">nullexit.org</a> is licensed under a <a rel=\"license\" href=\"http://creativecommons.org/licenses/by/4.0/\">Creative Commons Attribution 4.0 International License</a>."
   ]
  },
  {
   "cell_type": "code",
   "execution_count": 1,
   "metadata": {
    "scrolled": true
   },
   "outputs": [],
   "source": [
    "class ModSet():\n",
    "    \n",
    "    # Instance constructor\n",
    "    def __init__(self, setElement):\n",
    "        self.val = setElement  # set arg saved in .val attribute\n",
    "    \n",
    "    # String eval representation of self instance \n",
    "    def __repr__(self):\n",
    "        return self.val.__repr__() # Return string eval represent.\n",
    "                                   # of string object in .val\n",
    "    \n",
    "    # Method to make a copy of self instance\n",
    "    def __copy__(self):\n",
    "        return ModSet(self.val)\n",
    "        #return ModSet(self.val.copy())\n",
    "    \n",
    "    # Modify .val to contain the set of itself, of itself, ...\n",
    "    # nesting .val \"depth\" number of levels.\n",
    "    def pushDown(self, depth):\n",
    "        while depth > 0:\n",
    "            self.val = set([ModSet(self.val)])\n",
    "            depth -= 1     \n",
    "    \n",
    "    # Remove one nesting level from set in self.val.\n",
    "    # If un-nested, ignore.\n",
    "    def pullUpOneLevel(self):\n",
    "        listSet = list(self.val)\n",
    "        if len(listSet) == 1:\n",
    "            self.val = listSet[0].val\n",
    "        else:\n",
    "            pass\n",
    "    \n",
    "    # Remove \"height\" nesting levels from set in\n",
    "    # self.val by repeatedly calling above method\n",
    "    def pullUp(self, height):\n",
    "        while height > 0:\n",
    "            self.pullUpOneLevel()\n",
    "            height -= 1\n",
    "    \n",
    "    # Within a single set, multiple ModSets with \n",
    "    # equivalent .val attributes can exist.  \n",
    "    # This can occur because each instance of ModSet\n",
    "    # allocated its own location in memory. For sets\n",
    "    # to have unique members in terms of ModSet.val\n",
    "    # values, we define the following filtering method.\n",
    "    def removeDuplicates(self):\n",
    "        uniqueSet = set()  # initialize as empty the unique set to be built\n",
    "        for s in self.val:  # s is a member of the ModSet().val set\n",
    "            inUniqueSet = False  # initialize match detection flag as false\n",
    "            sTest = s  # default conditional testing value for s\n",
    "            for us in uniqueSet: # us is a member of the uniqueSet set\n",
    "                usTest = us  # default conditional testing value for us\n",
    "                if isinstance(us, ModSet): # if member us is a ModSet\n",
    "                    usTest = us.val        # change testing value to its attribute\n",
    "                if isinstance(s, ModSet):  # if member s is a ModSet\n",
    "                    sTest = s.val          # change testing value to its attribute\n",
    "                if usTest == sTest:  # compare us and s testing values on this run\n",
    "                    inUniqueSet = True  # if match, set existence flag to true\n",
    "            if not inUniqueSet:    # only add member s to uniqueSet if\n",
    "                uniqueSet.add(s)   # match is NOT detected\n",
    "        self.val = uniqueSet    # set .val to the uniqueSet from above\n",
    "    \n",
    "    # union join multiple items, enforce that ModSet members be unique\n",
    "    def union(self, *modSets):\n",
    "        for modSet in modSets:\n",
    "            self.val = self.val.union(modSet.val)  # this is union method from set class\n",
    "            self.removeDuplicates()  # removes duplicate-valued instances of ModSet members\n",
    "    \n",
    "    # set intersect multiple items\n",
    "    def intersection(self, *modSets):\n",
    "        for modSet in modSets:\n",
    "            self.val = self.val.intersection(modSet.val)\n",
    "    \n",
    "    # set difference multiple items. note: arg order matters here! \n",
    "    def difference(self, *modSets):\n",
    "        for modSet in modSets:\n",
    "            self.val = self.val.difference(modSet.val)\n",
    "    \n",
    "    # version of above method that returns a new instance,\n",
    "    # only takes two arguments.\n",
    "    def diffFunc(modSet1, modSet2):\n",
    "        return ModSet(set.difference(modSet1.val, modSet2.val))\n",
    "    \n",
    "    # Generate powerset via direct, binary mask approach\n",
    "    def powerSet_bin(self):\n",
    "        \n",
    "        ## Initialize local variables ##\n",
    "        S = list(self.val)         # convert to list for indexing\n",
    "        setSize = len(self.val)    # count number of members in source set\n",
    "        psetSize = pow(2, setSize) # calculate the number of elements in the power set\n",
    "        lastIndex = setSize - 1    # index value of last member\n",
    "        setIndices = range(0, setSize)  # make indices list for source set\n",
    "        psetIndices = range(0, psetSize) # make indices list for power set to be built\n",
    "        bMasks = [[False for s in setIndices] for p in psetIndices] # Initialize binary mask       \n",
    "        pSet = ModSet(set())  # initialize power set as empty ModSet() instance\n",
    "        pSet.pushDown(1)  # and nest it down one level for later joining\n",
    "        \n",
    "        ## Populate powerset with each subset, one at a time ##\n",
    "        for i in psetIndices: # loop through each member of power set\n",
    "            \n",
    "            ## Generate binary mask for subset i of power set ##\n",
    "            val = i  # assign current pSet index as current \"value\" of mask \n",
    "            for j in setIndices: # loop through each bit-digit of mask\n",
    "                \n",
    "                if (val >= pow(2, lastIndex - j)):  # if mask value >= value of current bit,\n",
    "                    bMasks[i][lastIndex - j] = True # then set corresp. mask bit to \"true\"\n",
    "                    val -= pow(2, lastIndex - j)    # subtract value of current bit from\n",
    "                                                    # mask value to determine next bit-digit\n",
    "            ## Form subset i of power set ##\n",
    "            # Use generator expression for compactness\n",
    "            dummySet = ModSet(set([S[k] for k in setIndices if bMasks[i][k] == True]))\n",
    "            dummySet.pushDown(1)  # nest ModSet instance down one level for union join\n",
    "            pSet.union(dummySet)  # include new subset in power set\n",
    "            \n",
    "        return pSet, bMasks  # return complete power set and binary masks as output\n",
    "    \n",
    "    # Generate powerset recursively.\n",
    "    def powerSet_rec(self):\n",
    "        \n",
    "        pSet = self.__copy__()      # Preserve self instance; its copy, pSet\n",
    "                                    # will be altered\n",
    "        pSet.pushDown(1)            # Nest pSet for later joining.\n",
    "              \n",
    "        if len(self.val) > 0:       # Recursion termination condition\n",
    "            for elSet in self.val:  # Iterate through members of set self.val\n",
    "                # Generate subset that remains after removing current\n",
    "                # element, elSet, from set self.val\n",
    "                dummySet = self.diffFunc(ModSet(set([elSet]))) \n",
    "                # To current powerset, append the powerset of the\n",
    "                # subset from previous step\n",
    "                pSet.union(dummySet.powerSet_rec())  # Self-call powerset method,\n",
    "                                                     # union join powerset of \n",
    "                                                     # dummySet with pSet\n",
    "            return pSet             # Return powerset at current \n",
    "                                    # level of recursion\n",
    "        else:\n",
    "            dummySet = ModSet(set())  # Generate instance of ModSet of empty set\n",
    "            dummySet.pushDown(1)      # Nest empty set down one level so it can\n",
    "            return dummySet           # be union joined in the recursion level\n",
    "                                      # above that called this run-through.\n",
    "            \n",
    "    def powerSet_mix(self):  # self.val is a set with reg. elements\n",
    "        \n",
    "        if len(self.val) > 0:  # if self.val is not empty do the following\n",
    "\n",
    "            el = list(self.val)[-1] # obtain last element of self.val set\n",
    "            el = ModSet(set([el])) # insert element within a ModSet\n",
    "            T = self.diffFunc(el) # get ModSet complement of self by set-subtracting el\n",
    "            pSet = T.powerSet_mix() # self-call to obtain power set of ModSet complement\n",
    "            # copy the power set of complement, need it kept unaltered from subsequent mods\n",
    "            extSet = ModSet(set([i.__copy__() for i in pSet.val])) # element-by-element copy\n",
    "            for s in extSet.val: # iterate through each subset in the power set of complement\n",
    "                s.union(el) # union-join the stripped element to each member subset\n",
    "            extSet.union(pSet) # union-join modified extSet to power set of complement\n",
    "            return extSet # return result which is power set of self\n",
    "        \n",
    "        else:  # if self.val is empty\n",
    "            dummySet = ModSet(set())  # construct ModSet of empty\n",
    "            dummySet.pushDown(1) # nest down 1 level\n",
    "            return dummySet # return power set (nested ModSet instance) that \n",
    "                            # includes only singleton subset as member"
   ]
  },
  {
   "cell_type": "markdown",
   "metadata": {},
   "source": [
    "<div id=\"Permutation-\"><h3>Permutation-based test for significant difference</h3></div>"
   ]
  },
  {
   "cell_type": "code",
   "execution_count": 10,
   "metadata": {
    "scrolled": true
   },
   "outputs": [
    {
     "data": {
      "image/png": "[encoded data removed]",
      "text/plain": [
       "<Figure size 720x360 with 6 Axes>"
      ]
     },
     "metadata": {
      "needs_background": "light"
     },
     "output_type": "display_data"
    }
   ],
   "source": [
    "nReps = 1999\n",
    "fig, axs = plt.subplots(nrows=3, ncols=2)\n",
    "fig.tight_layout()\n",
    "distList = [(0, 2), (1, 0), (1, 2)]\n",
    "diffLabels = [labels[distList[i][0]] + '-' + \n",
    "              labels[distList[i][1]] for i in range(0, 3)]\n",
    "simDiffs = np.zeros((3,nReps))\n",
    "\n",
    "for i in range(0, 3):\n",
    "    \n",
    "    simDiffs[i,:] = nps.permutatorMC(nps.diffMeans, nReps, *durs[distList[i],:])\n",
    "    nps.histPlotter(30, simDiffs[i,:], axes=axs[i,0], labels=[diffLabels[i]],\n",
    "                   colors=[colors[i+3]])\n",
    "    if i == 0:\n",
    "        axs[i,0].set_title('Difference of means after permutation, R = %s'%(nReps,))\n",
    "    if i == 2:\n",
    "        axs[i,0].set_xlabel('duration (msec.)')\n",
    "        \n",
    "    axs[i,0].set_ylabel('counts')\n",
    "    #ax.legend()\n",
    "\n",
    "    nps.qqPlotter_normal(simDiffs[i,:], 15, axes=axs[i,1], color=colors[i+3])\n",
    "    axs[i,1].set_title(diffLabels[i] + ' Q-Q')\n",
    "    if i == 2:\n",
    "        axs[i,1].set_xlabel('theor. normal')\n",
    "    axs[i,1].set_ylabel('data')"
   ]
  },
  {
   "cell_type": "code",
   "execution_count": null,
   "metadata": {
    "scrolled": true
   },
   "outputs": [],
   "source": [
    "import sys\n",
    "print(sys.path)"
   ]
  },
  {
   "cell_type": "code",
   "execution_count": null,
   "metadata": {
    "scrolled": true
   },
   "outputs": [],
   "source": [
    "# mypypath.py\n",
    "import sys, os\n",
    "pypath = '/home/thugwithyoyo/Documents/NullExitBlogPosts/PowersetGenerationPost'\n",
    "for dir_name in os.listdir(pypath):\n",
    "    dir_path = os.path.join(pypath, dir_name)\n",
    "    if os.path.isdir(dir_path):\n",
    "        sys.path.insert(0, dir_path)"
   ]
  },
  {
   "cell_type": "code",
   "execution_count": 11,
   "metadata": {
    "scrolled": true
   },
   "outputs": [
    {
     "ename": "NameError",
     "evalue": "name 'sys' is not defined",
     "output_type": "error",
     "traceback": [
      "\u001b[0;31m---------------------------------------------------------------------------\u001b[0m",
      "\u001b[0;31mNameError\u001b[0m                                 Traceback (most recent call last)",
      "\u001b[0;32m<ipython-input-11-c87bb50ac16d>\u001b[0m in \u001b[0;36m<module>\u001b[0;34m\u001b[0m\n\u001b[0;32m----> 1\u001b[0;31m \u001b[0mprint\u001b[0m\u001b[0;34m(\u001b[0m\u001b[0msys\u001b[0m\u001b[0;34m.\u001b[0m\u001b[0mpath\u001b[0m\u001b[0;34m)\u001b[0m\u001b[0;34m\u001b[0m\u001b[0;34m\u001b[0m\u001b[0m\n\u001b[0m",
      "\u001b[0;31mNameError\u001b[0m: name 'sys' is not defined"
     ]
    }
   ],
   "source": [
    "print(sys.path)"
   ]
  },
  {
   "cell_type": "code",
   "execution_count": null,
   "metadata": {
    "scrolled": true
   },
   "outputs": [],
   "source": [
    "np.rint(100.*np.random.random_sample(size=5)).astype(int)"
   ]
  }
 ],
 "metadata": {
  "kernelspec": {
   "display_name": "Python 3",
   "language": "python",
   "name": "python3"
  },
  "language_info": {
   "codemirror_mode": {
    "name": "ipython",
    "version": 3
   },
   "file_extension": ".py",
   "mimetype": "text/x-python",
   "name": "python",
   "nbconvert_exporter": "python",
   "pygments_lexer": "ipython3",
   "version": "3.7.3"
  }
 },
 "nbformat": 4,
 "nbformat_minor": 4
}
