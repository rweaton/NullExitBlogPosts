{
 "cells": [
  {
   "cell_type": "markdown",
   "metadata": {},
   "source": [
    "# Power sets in Python: an object-oriented approach (part 1)"
   ]
  },
  {
   "cell_type": "markdown",
   "metadata": {},
   "source": [
    "<div href=\"Contents-main\"><h2>Contents</h2></div>\n",
    "<ol>\n",
    "    <li><div style=\"text-align: left\"><a href=\"#Overview-main\"><cn1>Overview</cn1></a></div></li>\n",
    "    <li><div style=\"text-align: left\"><a href=\"#Power-sets-defined-and-how-to-build-them\"><cn1>Power sets defined and how to build them</cn1></a></div>\n",
    "    <ol>\n",
    "        <li><div style=\"text-align: left\"><a href=\"#The-binary-mask-approach\"><cn2>The Binary Mask approach</cn2></a></div></li>\n",
    "        <li><div style=\"text-align: left\"><a href=\"#A-recursive-approach\"><cn2>A Recursive approach</cn2></a></div>\n",
    "            <ol>\n",
    "                <li><div style=\"text-align: left\"><a href=\"#Recursion-walk-through\"><cn3> Recursion walk-through</cn3></a></div></li>\n",
    "            </ol>\n",
    "        </li>\n",
    "        <li><div style=\"text-align: left\"><a href=\"#Motivation-and-next-step\"><cn2>Motivation and next step</cn2></a></div></li>\n",
    "    </ol>\n",
    "    </li>\n",
    "    <li><div style=\"text-align: left\"><a href=\"#The-python-set-class\"><cn1>The Python set class</cn1></a></div>\n",
    "    <ol>\n",
    "        <li><div style=\"text-align: left\"><a href=\"#Class-instances-can-be-hashed\"><cn2>Class instances can be hashed</cn2></a></li>\n",
    "        <li><div style=\"text-align: left\"><a href=\"#Why-define-a-new-class\"><cn2>Why define a new class?</cn2></a></div></li>\n",
    "    </ol>\n",
    "    </li>\n",
    "    <li><div style=\"text-align: left\"><a href=\"#Plan-for-part-two\"><cn1>Plan for part two</cn1></a></div></li>\n",
    "    <li><div style=\"text-align: left\"><a href=\"#Sources-(part-1)\"><cn1>Sources (part 1)</cn1></a></div></li>\n",
    "</ol>"
   ]
  },
  {
   "cell_type": "markdown",
   "metadata": {},
   "source": [
    "<div id=\"Overview-main\"><h2>Overview</h2></div>\n",
    "\n",
    "In this three part series, we will demonstrate how to construct the power set using both iterative and recursive algorithms. You may recall, the power set of a set $S$ is the collection of all (unique) subsets of $S$, including the empty set and $S$ itself. Though Python's `set` class does not accept its own `set` objects as members, we will define a new object class, `ModSet()`, that encapsulates member subsets in hashable containers so that they can be included within `set` instance, the power set.\n",
    "\n",
    "Here in part one, we'll use a ~~minimal~~ working example to demonstrate our solution to the subset inclusion problem.  Next, in <a href=\"https://nullexit.org/blog/index.php/2021/01/27/power-sets-in-python-an-object-oriented-approach-part-2/\">part two</a>, we construct the `ModSet()` object with all the methods necessary to support power set generation by two distinct approaches. Finally, in <a href=\"https://nullexit.org/blog/index.php/2021/01/29/power-sets-in-python-an-object-oriented-approach-part-3/\">part three</a> we develop and run binary mask and recursive routines for generating power sets in Python.\n",
    "\n",
    "Now, a bit about power sets."
   ]
  },
  {
   "cell_type": "markdown",
   "metadata": {},
   "source": [
    "<div id=\"Power-sets-defined-and-how-to-build-them\"><h2>Power sets defined and how to build them</h2></div>\n",
    "\n",
    "If a set $S$ has $n$ elements, its power set will have $2^n$ member subsets; these include the complete \"source\" set, $S$ itself, as well as the empty set, $\\emptyset$. For example, the power set of set $\\{x,y,z\\}$ is: $\\{\\emptyset, \\{x\\}, \\{y\\}, \\{z\\}, \\{x, y\\}, \\{x, z\\},  \\{y, z\\}, \\{x, y, z\\}\\}$. Please notice that there are $2^3=8$ subset elements, all of which are unique; that is, no two subsets contain the same collection of members.\n",
    "\n",
    "Why $2^n$? Because all possible subsets can be formed by selecting their members according to digit occurrence in the base-2 integers that count from $0$ to $2^n$ \n",
    "\n",
    "Clear as mud, right? Don't worry, we'll explain."
   ]
  },
  {
   "cell_type": "markdown",
   "metadata": {},
   "source": [
    "<div id=\"The-binary-mask-approach\"><h3>The Binary Mask approach</h3></div>\n",
    "\n",
    "Say we have a source set comprised of four members, $\\{a,b,c,d\\}$. The corresponding mask will have four digits that can each take on values of either $0$ or $1$. If a mask digit equals $1$ we keep the element in the corresponding location of the source set, if a digit is $0$, we reject the corresponding element. "
   ]
  },
  {
   "cell_type": "markdown",
   "metadata": {},
   "source": [
    "<div id=\"Working-with-binary-masks\"><h4>Working with binary masks</h4></div>\n",
    "\n",
    "Here's an illustrative example: binary mask $0101$ operating on source set $\\{a,b,c,d\\}$ would form subset member $\\{b,d\\}$ of the power set.  Similarly, binary mask $1110$ selects subset $\\{a,b,c\\}$. Using the same rule, mask $0000$ selects $\\emptyset$, while $1111$ forms the original source set of all four elements. There are $2^4=16$ unique bit combinations in a 4-digit binary mask, so there are $16$ unique member subsets in the power set of a four-element source set. Now, extending this procedure to a set comprised of $n$ elements rather than $4$, you can see that its power set will have $2^n$ member subsets by the same rule (the binomal theorem).\n",
    "\n",
    "The above procedure may seem to have a certain efficiency and elegance in its directness; in this series, we'll call this method \"the *Binary Mask* approach\".\n",
    "\n",
    "But there is another procedure we can use to build power sets..."
   ]
  },
  {
   "cell_type": "markdown",
   "metadata": {},
   "source": [
    "<div id=\"A-recursive-approach\"><h3>A Recursive approach</h3></div>\n",
    "\n",
    "Alternatively, you can take your source set, $\\{a,b,c,d\\}$, remove one of its members, $a$, then define a new subset with the members that remain, $\\{b,c,d\\}$, and include it as a new element in a collection. We apply the same element removal procedure to the resultant subset from the previous step, then to the result of the current step, and to the result of the next step, and so on, until we are left with a result that is empty. If we repeat the removal operation for all members of the starting set and each resultant subset, you will produce the a collection of subsets that includes the power set, with many redundant subsets in the collection as well.  We'll address this issue of duplication in the next section."
   ]
  },
  {
   "cell_type": "markdown",
   "metadata": {},
   "source": [
    "<div id=\"Recursion-walk-through\"><h4>Recursion walk-through</h4></div>\n",
    "\n",
    "For example: removing $b$ from our source set leaves subset $\\{a,c,d\\}$. Removing element $c$ from subset $\\{a,c,d\\}$ leaves subset $\\{a,d\\}$.  Taking $a$ from subset $\\{a,d\\}$ results in subset $\\{d\\}$. And finally, removing element $d$ from subset $\\{d\\}$ produces the $\\emptyset$. Then we go all the way back up to the top, this time taking $c$ from $\\{a,b,c,d\\}$ and repeat the entire stripping procedure until we are left with $\\emptyset$ as above. Next we do the same starting with members $d$ and $a$; repeating the full stripping procedure for each. \n",
    "\n",
    "Notice that we could have removed any existing member from any set or subset at any step in the process--not only the particular members stated above. For example we could have removed $d$ from subset $\\{a,c,d\\}$ instead of $c$ at that step. If we explore *every* possible sequence of element removal, we'll notice that identical subsets can be produced by different sequences (e.g. $\\{a,c\\}$ results from sequence $\\{a,b,c,d\\} \\rightarrow \\{a,b,c\\} \\rightarrow \\{a,c\\}$, as well as $\\{a,b,c,d\\} \\rightarrow \\{a,c,d\\} \\rightarrow \\{a,c\\}$). So, our algorithm will need to exclude non-unique subset candidates from the collection; either as the power set is being populated or by removing duplicates after the entire collection has been formed."
   ]
  },
  {
   "cell_type": "markdown",
   "metadata": {},
   "source": [
    "<div id=\"Motivation-and-next-step\"><h3>Motivation and next step</h3></div>\n",
    "\n",
    "This second procedure for generating power sets we'll call \"our *Recursive* approach\"<sup><a href=\"#footnote1\">1</a></sup>.  While our Recursive approach may lack the directness and efficiency of the Binary Mask algorithm, we hope that coding it will at least prove to be an instructive, \"chops-building\", exercise in recursion, if no other utility can be found for it in the future.\n",
    "\n",
    "Before we can implement either algorithm, however, we need to investigate the behavior of Python's `set()` class. Specifically, if it suffices for our purpose of containing subsets within an all-encompassing superset, in our case: the power set.\n",
    "\n",
    "\\[Spoiler alert... it doesn't.\\]"
   ]
  },
  {
   "cell_type": "markdown",
   "metadata": {},
   "source": [
    "<div id=\"The-python-set-class\"><h2>The Python set class</h2></div>\n",
    "\n",
    "The set class in python takes only immutable types (e.g. strings, numeric values, and tuples) as members. Under the hood, a `set()` object retains a *hash* or *pointer* to an immutable object that is a member."
   ]
  },
  {
   "cell_type": "code",
   "execution_count": 1,
   "metadata": {},
   "outputs": [
    {
     "data": {
      "text/plain": [
       "{'\"record-setting\"', ('alternative', 'facts'), 20.1, 2017, 'covfefe'}"
      ]
     },
     "execution_count": 1,
     "metadata": {},
     "output_type": "execute_result"
    }
   ],
   "source": [
    "shinyPrez = set([20.1, 2017, ('alternative', 'facts'), '\\\"record-setting\\\"'])\n",
    "shinyPrez.add('covfefe')\n",
    "shinyPrez"
   ]
  },
  {
   "cell_type": "markdown",
   "metadata": {},
   "source": [
    "Something to notice: the ordering of elements in the set's output string does *not* match their ordering in its definition. Unlike Python's iterable `list()` class, `set()` objects do not retain member ordering. \n",
    "\n",
    "When you try to insert a mutable type, lists or dictionaries for example, Python will spit back an 'unhashable' type error."
   ]
  },
  {
   "cell_type": "code",
   "execution_count": 2,
   "metadata": {},
   "outputs": [
    {
     "ename": "TypeError",
     "evalue": "unhashable type: 'list'",
     "output_type": "error",
     "traceback": [
      "\u001b[0;31m---------------------------------------------------------------------------\u001b[0m",
      "\u001b[0;31mTypeError\u001b[0m                                 Traceback (most recent call last)",
      "\u001b[0;32m<ipython-input-2-ae90a0c1ba60>\u001b[0m in \u001b[0;36m<module>\u001b[0;34m\u001b[0m\n\u001b[0;32m----> 1\u001b[0;31m \u001b[0mshinyPrez\u001b[0m\u001b[0;34m.\u001b[0m\u001b[0madd\u001b[0m\u001b[0;34m(\u001b[0m\u001b[0;34m[\u001b[0m\u001b[0;34m'Cambridge'\u001b[0m\u001b[0;34m,\u001b[0m \u001b[0;34m'Analytica'\u001b[0m\u001b[0;34m]\u001b[0m\u001b[0;34m)\u001b[0m\u001b[0;34m\u001b[0m\u001b[0;34m\u001b[0m\u001b[0m\n\u001b[0m",
      "\u001b[0;31mTypeError\u001b[0m: unhashable type: 'list'"
     ]
    }
   ],
   "source": [
    "shinyPrez.add(['Cambridge', 'Analytica'])"
   ]
  },
  {
   "cell_type": "markdown",
   "metadata": {},
   "source": [
    "See, no dice.  Also, because `set()` objects are mutable, the same goes if you attempt to include a `set` as a member of another `set`."
   ]
  },
  {
   "cell_type": "code",
   "execution_count": 3,
   "metadata": {},
   "outputs": [
    {
     "data": {
      "text/plain": [
       "{('impeachment', 'proceedings')}"
      ]
     },
     "execution_count": 3,
     "metadata": {},
     "output_type": "execute_result"
    }
   ],
   "source": [
    "woopsy = set([('impeachment', 'proceedings')])\n",
    "woopsy"
   ]
  },
  {
   "cell_type": "code",
   "execution_count": 4,
   "metadata": {},
   "outputs": [
    {
     "ename": "TypeError",
     "evalue": "unhashable type: 'set'",
     "output_type": "error",
     "traceback": [
      "\u001b[0;31m---------------------------------------------------------------------------\u001b[0m",
      "\u001b[0;31mTypeError\u001b[0m                                 Traceback (most recent call last)",
      "\u001b[0;32m<ipython-input-4-3116c73d2c5b>\u001b[0m in \u001b[0;36m<module>\u001b[0;34m\u001b[0m\n\u001b[0;32m----> 1\u001b[0;31m \u001b[0mshinyPrez\u001b[0m\u001b[0;34m.\u001b[0m\u001b[0madd\u001b[0m\u001b[0;34m(\u001b[0m\u001b[0mwoopsy\u001b[0m\u001b[0;34m)\u001b[0m\u001b[0;34m\u001b[0m\u001b[0;34m\u001b[0m\u001b[0m\n\u001b[0m",
      "\u001b[0;31mTypeError\u001b[0m: unhashable type: 'set'"
     ]
    }
   ],
   "source": [
    "shinyPrez.add(woopsy)"
   ]
  },
  {
   "cell_type": "markdown",
   "metadata": {},
   "source": [
    "Though you can join sets together, by combining unique members into a single pool, with the `set.union()` operation."
   ]
  },
  {
   "cell_type": "code",
   "execution_count": 5,
   "metadata": {},
   "outputs": [
    {
     "data": {
      "text/plain": [
       "{'\"record-setting\"',\n",
       " ('alternative', 'facts'),\n",
       " ('impeachment', 'proceedings'),\n",
       " 20.1,\n",
       " 2017,\n",
       " 'covfefe'}"
      ]
     },
     "execution_count": 5,
     "metadata": {},
     "output_type": "execute_result"
    }
   ],
   "source": [
    "shinyPrez = shinyPrez.union(woopsy)\n",
    "shinyPrez"
   ]
  },
  {
   "cell_type": "markdown",
   "metadata": {},
   "source": [
    "<div id=\"#Class-instances-can-be-hashed\"><h3>Class instances can be hashed</h3></div>\n",
    "\n",
    "Now, because separate instances of a class are allocated their own locations in memory, they are hashable; even if they contain unhashable values as attributes. And, even if the values of the attributes of the two instances are equivalent."
   ]
  },
  {
   "cell_type": "code",
   "execution_count": 6,
   "metadata": {},
   "outputs": [
    {
     "name": "stdout",
     "output_type": "stream",
     "text": [
      "<class 'set'>\n",
      "[<class '__main__.Advisor'>, <class '__main__.Advisor'>]\n",
      "[<class 'set'>, <class 'set'>]\n"
     ]
    }
   ],
   "source": [
    "class Advisor():\n",
    "    def __init__(self):\n",
    "        self.val = {'Presidential', 'pardon'}  # Attribute contains unhashable set\n",
    "        \n",
    "RogerS = Advisor()   # has set for attribute .val\n",
    "PaulM = Advisor()  # has same set as above for its attribute .val\n",
    "modelCitz = set([PaulM, RogerS])  # include the two instances as members of a set\n",
    "print(type(modelCitz))           # c is indeed a set\n",
    "print([type(el) for el in modelCitz]) # members of the set are instances of Advisor class\n",
    "print([type(el.val) for el in modelCitz])  # attributes of member instances are sets"
   ]
  },
  {
   "cell_type": "markdown",
   "metadata": {},
   "source": [
    "We adopted the above definition from <a href=\"https://bernsteinbear.com/blog/recursive-python-objects/\">Max Bernstein's blog</a>.  Also, we can instruct that instances of the class, when called, define themselves as their `.val` attribute <a href=\"#ref1\">(Bernstein, 2019)</a>."
   ]
  },
  {
   "cell_type": "code",
   "execution_count": 7,
   "metadata": {},
   "outputs": [
    {
     "data": {
      "text/plain": [
       "{{'Presidential', 'pardon'}}"
      ]
     },
     "execution_count": 7,
     "metadata": {},
     "output_type": "execute_result"
    }
   ],
   "source": [
    "class Advisor():\n",
    "    def __init__(self):\n",
    "        self.val = {'Presidential', 'pardon'}\n",
    "    def __repr__(self):  # method to generate representative code string\n",
    "        return self.val.__repr__()  # return __repr__ code string for the\n",
    "                                    # Advisor().val attribute\n",
    "\n",
    "MichaelF = Advisor()\n",
    "noHarmDone = set([MichaelF])\n",
    "noHarmDone"
   ]
  },
  {
   "cell_type": "markdown",
   "metadata": {},
   "source": [
    "A quick look might suggest that we bypassed `set()`'s exclusion of mutables here. But don't be fooled. While we have the *appearance* of having a `set` object contained within another `set` object, what we actually have is a `set` that contains a hash to an instance of `Advisor()` that has a `set` as an attribute."
   ]
  },
  {
   "cell_type": "code",
   "execution_count": 8,
   "metadata": {},
   "outputs": [
    {
     "name": "stdout",
     "output_type": "stream",
     "text": [
      "<class 'set'>\n",
      "<class '__main__.Advisor'>\n",
      "<class 'set'>\n"
     ]
    }
   ],
   "source": [
    "print(type(noHarmDone))  # Notice that set()'s lack of indexing\n",
    "print(type(list(noHarmDone)[0]))  # methods can be a bit \n",
    "print(type(list(noHarmDone)[0].val))  # of a pain..!"
   ]
  },
  {
   "cell_type": "markdown",
   "metadata": {},
   "source": [
    "<div id=\"Why-define-a-new-class\"><h3>Why define a new class?</h3></div>\n",
    "\n",
    "The skeptical Python programmer at this stage is likely asking her/his/them-self: \"why don't you just use a `list` object rather than defining a whole 'nother class for cryin' out loud!?!\"  Number 1, lists are not hashable; for our power set generation routines to come, we require a container that is.  Number 2, lists permit duplicate entries; enforcing member uniqueness would require more coding. Finally, number 3, lists preserve element ordering; while not a deal-breaker for our purposes, lists do not mathematically qualify as sets for this reason and others."
   ]
  },
  {
   "cell_type": "markdown",
   "metadata": {},
   "source": [
    "<div id=\"Plan-for-part-two\"><h2>Plan for part two</h2></div>\n",
    "\n",
    "In <a href=\"https://nullexit.org/blog/index.php/2021/01/27/power-sets-in-python-an-object-oriented-approach-part-2/\">part two</a>, we'll define a new class, `ModSet()`, that will behave much like Python's `set()` class, but with an added `set`-valued attribute. Our `ModSet()` class will employ the same approach just demonstrated above: use of a hashable class instance to contain unhashable set objects. With these container instances themselves eligible for membership in a super-`set()` object. Use of `ModSet` objects will allow us to form an all-encompassing power set that--indirectly--has sub-`set()` instances as members. More than a cosmetic device, defining a set container class in this way will allow the power set of a given `set` object to be generated using Binary Mask and Recursion-based algorithms later on in <a href=\"https://nullexit.org/blog/index.php/2021/01/29/power-sets-in-python-an-object-oriented-approach-part-3/\">part three</a>."
   ]
  },
  {
   "cell_type": "markdown",
   "metadata": {},
   "source": [
    "<div id=\"Sources-(part-1)\"><h2>Sources (part 1)</h2></div>\n",
    "\n",
    "<a id=\"ref1\">1.</a> Bernstein, M., <a href=\"https://bernsteinbear.com/blog/recursive-python-objects/\">Recursive Python Objects</a>, https://bernsteinbear.com/blog. 2019."
   ]
  },
  {
   "cell_type": "markdown",
   "metadata": {},
   "source": [
    "<footnote><sup><a id=\"footnote1\">1</a></sup>While the writing this series, we learned of other recursive algorithms for generating the power set.  In a future post, we will investigate and implement one of these, that, unlike above, does not produce subset duplicates in the process.</footnote>"
   ]
  }
 ],
 "metadata": {
  "kernelspec": {
   "display_name": "Python 3",
   "language": "python",
   "name": "python3"
  },
  "language_info": {
   "codemirror_mode": {
    "name": "ipython",
    "version": 3
   },
   "file_extension": ".py",
   "mimetype": "text/x-python",
   "name": "python",
   "nbconvert_exporter": "python",
   "pygments_lexer": "ipython3",
   "version": "3.7.3"
  }
 },
 "nbformat": 4,
 "nbformat_minor": 4
}
